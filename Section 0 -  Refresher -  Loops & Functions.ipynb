{
 "cells": [
  {
   "cell_type": "code",
   "execution_count": 9,
   "id": "5c68ffe4-aa54-47f5-a59c-ee5aaeed0a50",
   "metadata": {},
   "outputs": [
    {
     "name": "stdout",
     "output_type": "stream",
     "text": [
      "1\n",
      "2\n",
      "Found!\n",
      "4\n",
      "5\n"
     ]
    }
   ],
   "source": [
    "nums = [1, 2, 3, 4, 5]\n",
    "\n",
    "for num in nums:\n",
    "    if num == 3:\n",
    "        print('Found!')\n",
    "        #break\n",
    "        continue\n",
    "    print(num)"
   ]
  },
  {
   "cell_type": "code",
   "execution_count": null,
   "id": "d09c995e-0569-4f67-9b13-74666f699eea",
   "metadata": {},
   "outputs": [],
   "source": [
    "#Two important keywords when working with loops\n",
    "#1. Break: This will completely break out of the loop\n",
    "#2. Continue: This will move on to the next iteration of the loop"
   ]
  },
  {
   "cell_type": "code",
   "execution_count": 11,
   "id": "efb84fa1-6648-4653-b612-8ccd2f456ca8",
   "metadata": {},
   "outputs": [
    {
     "name": "stdout",
     "output_type": "stream",
     "text": [
      "1 a\n",
      "1 b\n",
      "1 c\n",
      "2 a\n",
      "2 b\n",
      "2 c\n",
      "3 a\n",
      "3 b\n",
      "3 c\n",
      "4 a\n",
      "4 b\n",
      "4 c\n",
      "5 a\n",
      "5 b\n",
      "5 c\n"
     ]
    }
   ],
   "source": [
    "#A loop within a loop\n",
    "nums = [1, 2, 3, 4, 5]\n",
    "\n",
    "for num in nums:\n",
    "    for letter in 'abc':\n",
    "        print(num, letter)"
   ]
  },
  {
   "cell_type": "code",
   "execution_count": 15,
   "id": "62cdd5bf-ef14-4430-af82-06185fdd0fc9",
   "metadata": {},
   "outputs": [
    {
     "name": "stdout",
     "output_type": "stream",
     "text": [
      "1\n",
      "2\n",
      "3\n",
      "4\n",
      "5\n",
      "6\n",
      "7\n",
      "8\n",
      "9\n",
      "10\n"
     ]
    }
   ],
   "source": [
    "#Running through a loop a certain number of times\n",
    "\n",
    "for i in range(1, 11): #Does not include the last value\n",
    "    print(i)"
   ]
  },
  {
   "cell_type": "code",
   "execution_count": 17,
   "id": "1428f39f-4101-4b38-ade1-12df08eba441",
   "metadata": {},
   "outputs": [
    {
     "name": "stdout",
     "output_type": "stream",
     "text": [
      "0\n",
      "1\n",
      "2\n",
      "3\n",
      "4\n",
      "5\n",
      "6\n",
      "7\n",
      "8\n",
      "9\n"
     ]
    }
   ],
   "source": [
    "#WHILE LOOP\n",
    "#For loop interates through a certain number of values, while loop interates until a certain \n",
    "#condition is met\n",
    "\n",
    "x = 0\n",
    "while x < 10:\n",
    "    if x == 5:\n",
    "        break\n",
    "    print(x)\n",
    "    x += 1"
   ]
  },
  {
   "cell_type": "code",
   "execution_count": 23,
   "id": "7587b91e-6668-4a85-96fd-8d6f3ecf81f6",
   "metadata": {},
   "outputs": [
    {
     "name": "stdout",
     "output_type": "stream",
     "text": [
      "0\n",
      "1\n",
      "2\n",
      "3\n",
      "4\n"
     ]
    }
   ],
   "source": [
    "#Infinite Loop\n",
    "# Sometime we might want an infinite loop that never breaks until we create or find some value\n",
    "#Use CTRL C to stop an infinite loop\n",
    "x = 0\n",
    "\n",
    "while True:\n",
    "    if x == 5:\n",
    "        break\n",
    "    print(x)\n",
    "    x += 1"
   ]
  },
  {
   "cell_type": "code",
   "execution_count": 56,
   "id": "da2e2a1b-1f17-4681-a345-a56284d1932a",
   "metadata": {},
   "outputs": [
    {
     "name": "stdout",
     "output_type": "stream",
     "text": [
      "HI, COREY FUNCTION.\n",
      "4\n"
     ]
    }
   ],
   "source": [
    "# FUNCTIONS\n",
    "#These are instructions packaged together that perform a specific task\n",
    "#It allows us to reuse code with out repoeating\n",
    "\n",
    "def hello_func(greeting, name = 'You'):\n",
    "    #print('Hello Function!')\n",
    "    return '{}, {} Function.'.format(greeting, name)\n",
    "\n",
    "\n",
    "print(hello_func('Hi', name = 'Corey').upper())\n",
    "print(len('Test'))"
   ]
  },
  {
   "cell_type": "code",
   "execution_count": 68,
   "id": "61548872-852e-4ad2-b493-52532a562de7",
   "metadata": {},
   "outputs": [
    {
     "name": "stdout",
     "output_type": "stream",
     "text": [
      "(['Math', 'Art'], {'name': 'John', 'age': 22})\n",
      "{}\n"
     ]
    }
   ],
   "source": [
    "# Designed to accept a variable number of positional and keyword arguments\n",
    "\n",
    "def student_info(*args, **kwargs):\n",
    "    print(args)\n",
    "    print(kwargs)\n",
    "\n",
    "courses = ['Math', 'Art']\n",
    "info = {'name':'John', 'age':22}\n",
    "\n",
    "student_info(courses, info)"
   ]
  },
  {
   "cell_type": "code",
   "execution_count": null,
   "id": "9f444157-772c-435a-803a-8592884ec52e",
   "metadata": {},
   "outputs": [],
   "source": []
  }
 ],
 "metadata": {
  "kernelspec": {
   "display_name": "Python 3 (ipykernel)",
   "language": "python",
   "name": "python3"
  },
  "language_info": {
   "codemirror_mode": {
    "name": "ipython",
    "version": 3
   },
   "file_extension": ".py",
   "mimetype": "text/x-python",
   "name": "python",
   "nbconvert_exporter": "python",
   "pygments_lexer": "ipython3",
   "version": "3.12.4"
  }
 },
 "nbformat": 4,
 "nbformat_minor": 5
}
