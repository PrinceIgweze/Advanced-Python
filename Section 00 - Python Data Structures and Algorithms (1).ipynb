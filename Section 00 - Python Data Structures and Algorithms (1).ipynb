{
 "cells": [
  {
   "cell_type": "markdown",
   "id": "8348d604-2c8b-48a4-aae8-9aefbb09cd7b",
   "metadata": {},
   "source": [
    "## Big O "
   ]
  },
  {
   "cell_type": "markdown",
   "id": "181848b8-4b9b-48bd-ac4a-f99f514bea32",
   "metadata": {},
   "source": [
    "This is a way of comparing two set of code mathematically about how efficient they run\n",
    "<br> Time Complexity: Measure of the speed a code runs. It is not measured in time. It is measured in the number of operations it takes to complete.\n",
    "<br> Space Complexity: The amount of memory a code takes after its ben run"
   ]
  },
  {
   "cell_type": "markdown",
   "id": "834e6ef2-e119-43d0-97ab-a0552ce399ce",
   "metadata": {},
   "source": [
    "There is a tradeoff between time and space complexity\n",
    "<br> When we talk about Big O we are always referring to the worse case"
   ]
  },
  {
   "cell_type": "markdown",
   "id": "e5b6a3fc-4d23-47bd-b6ad-cd3020de6eee",
   "metadata": {},
   "source": [
    "## Big O(n)"
   ]
  },
  {
   "cell_type": "code",
   "execution_count": 17,
   "id": "984052aa-10fc-4d7b-bf12-8a5919475fbe",
   "metadata": {},
   "outputs": [
    {
     "name": "stdout",
     "output_type": "stream",
     "text": [
      "0\n",
      "1\n",
      "2\n",
      "3\n",
      "4\n"
     ]
    }
   ],
   "source": [
    "def print_items(n):\n",
    "    for i in range(n):\n",
    "        print(i)\n",
    "\n",
    "print_items(5)"
   ]
  },
  {
   "cell_type": "code",
   "execution_count": 21,
   "id": "a7f78e48-1ffb-4692-a15f-c299f8b60a85",
   "metadata": {},
   "outputs": [],
   "source": [
    "#Prints out 0 - 4\n",
    "#This is an example of a code that is o(n)\n",
    "#We passed it in the number n and it ran in time. n operations\n",
    "# A plot of n vs the number of operations will always be a straight linear line (i.e proportional)"
   ]
  },
  {
   "cell_type": "markdown",
   "id": "d2049148-6fb4-47ed-bed6-17377c95d757",
   "metadata": {},
   "source": [
    "## Big O: Drop Constants"
   ]
  },
  {
   "cell_type": "code",
   "execution_count": 24,
   "id": "55681d7f-b850-45fa-be26-8849618f38a2",
   "metadata": {},
   "outputs": [],
   "source": [
    "#Ways to simplify, Big O notation"
   ]
  },
  {
   "cell_type": "code",
   "execution_count": 26,
   "id": "1e334018-9a23-4716-819d-1aaecdcf705a",
   "metadata": {},
   "outputs": [
    {
     "name": "stdout",
     "output_type": "stream",
     "text": [
      "0\n",
      "1\n",
      "2\n",
      "3\n",
      "4\n",
      "5\n",
      "6\n",
      "7\n",
      "8\n",
      "9\n",
      "0\n",
      "1\n",
      "2\n",
      "3\n",
      "4\n",
      "5\n",
      "6\n",
      "7\n",
      "8\n",
      "9\n"
     ]
    }
   ],
   "source": [
    "def print_items(n):\n",
    "    for i in range(n):\n",
    "        print(i)\n",
    "\n",
    "    for j in range(n):\n",
    "        print(j)\n",
    "\n",
    "print_items(10)"
   ]
  },
  {
   "cell_type": "code",
   "execution_count": null,
   "id": "026ba13d-b9e9-4b61-a60b-63d882e545b8",
   "metadata": {},
   "outputs": [],
   "source": [
    "# This printed out 20 items and ran n + n (2n) times\n",
    "# 0(2n) we can simplify this by dropping the constant 0(n)"
   ]
  },
  {
   "cell_type": "markdown",
   "id": "26a20862-0455-4211-8cca-334e194ebf4c",
   "metadata": {},
   "source": [
    "## Big O: O(n^2)"
   ]
  },
  {
   "cell_type": "code",
   "execution_count": 31,
   "id": "dc7823a7-09f4-4f97-a875-8da72d6cb70f",
   "metadata": {},
   "outputs": [
    {
     "name": "stdout",
     "output_type": "stream",
     "text": [
      "0 0\n",
      "0 1\n",
      "0 2\n",
      "0 3\n",
      "0 4\n",
      "1 0\n",
      "1 1\n",
      "1 2\n",
      "1 3\n",
      "1 4\n",
      "2 0\n",
      "2 1\n",
      "2 2\n",
      "2 3\n",
      "2 4\n",
      "3 0\n",
      "3 1\n",
      "3 2\n",
      "3 3\n",
      "3 4\n",
      "4 0\n",
      "4 1\n",
      "4 2\n",
      "4 3\n",
      "4 4\n"
     ]
    }
   ],
   "source": [
    "def print_items(n):\n",
    "    for i in range(n):\n",
    "        for j in range(n):\n",
    "            print(i, j)\n",
    "\n",
    "print_items(5)"
   ]
  },
  {
   "cell_type": "code",
   "execution_count": null,
   "id": "7b3fa754-ffa9-4291-8c2b-baad650f1948",
   "metadata": {},
   "outputs": [],
   "source": [
    "# This printed out 25 items and ran n * n (n^2) times\n",
    "# This is a lot less efficient from a time complecity stand point"
   ]
  },
  {
   "cell_type": "markdown",
   "id": "15af360d-9222-432c-8911-734a93a26d6a",
   "metadata": {},
   "source": [
    "## Big O: Drop Non-Dominants"
   ]
  },
  {
   "cell_type": "code",
   "execution_count": 1,
   "id": "dcf1ec7e-31b2-4b51-ab32-94760bbb74e6",
   "metadata": {},
   "outputs": [
    {
     "name": "stdout",
     "output_type": "stream",
     "text": [
      "0 0\n",
      "0 1\n",
      "0 2\n",
      "0 3\n",
      "0 4\n",
      "1 0\n",
      "1 1\n",
      "1 2\n",
      "1 3\n",
      "1 4\n",
      "2 0\n",
      "2 1\n",
      "2 2\n",
      "2 3\n",
      "2 4\n",
      "3 0\n",
      "3 1\n",
      "3 2\n",
      "3 3\n",
      "3 4\n",
      "4 0\n",
      "4 1\n",
      "4 2\n",
      "4 3\n",
      "4 4\n",
      "0\n",
      "1\n",
      "2\n",
      "3\n",
      "4\n"
     ]
    }
   ],
   "source": [
    "def print_items(n):\n",
    "    for i in range(n):\n",
    "        for j in range(n):\n",
    "            print(i, j)\n",
    "\n",
    "    for k in range(n):\n",
    "        print(k)\n",
    "\n",
    "print_items(5)"
   ]
  },
  {
   "cell_type": "code",
   "execution_count": null,
   "id": "dd89db96-d8dc-46db-9019-346559e908cc",
   "metadata": {},
   "outputs": [],
   "source": [
    "# The nested for loop ran O(n^2) times\n",
    "#The single for loop ran O(n) times\n",
    "#Total is O(n^2 + n)\n",
    "# n is a very small portion of the number of operations and can be dropped. n^2 is the dominant term"
   ]
  },
  {
   "cell_type": "markdown",
   "id": "7e8caba2-fa9a-492c-b0ef-cb7207c80446",
   "metadata": {},
   "source": [
    "## Big 0: 0(1)"
   ]
  },
  {
   "cell_type": "code",
   "execution_count": null,
   "id": "f17de08a-ede0-40fa-9a97-98fb6d2035e3",
   "metadata": {},
   "outputs": [],
   "source": [
    "def add_items(n):\n",
    "    return n + n + n\n",
    "\n",
    "#0(1) is also called constant time. As n increases the number of operations remains constant\n",
    "#This is the most efficient Big 0. And the most optimal you can make a code"
   ]
  },
  {
   "cell_type": "markdown",
   "id": "7e98b6b8-c9e9-46cb-a89e-831d2eaa30bd",
   "metadata": {},
   "source": [
    "## Big O: O(log n)"
   ]
  },
  {
   "cell_type": "code",
   "execution_count": null,
   "id": "a0f8c265-cc0f-4277-8459-0552c54f9c49",
   "metadata": {},
   "outputs": [],
   "source": [
    "# Used in some sorting algoithms\n",
    "# O(nlog n) The most efficient you make a sorting algorithm"
   ]
  },
  {
   "cell_type": "code",
   "execution_count": 13,
   "id": "422529a5-01af-4de1-8d33-4c16f1c853ed",
   "metadata": {},
   "outputs": [
    {
     "data": {
      "image/png": "[encoded data removed]",
      "text/plain": [
       "<Figure size 640x480 with 1 Axes>"
      ]
     },
     "metadata": {},
     "output_type": "display_data"
    }
   ],
   "source": [
    "#Conceptual Data Model (Designed using draw.io)\n",
    "from PIL import Image\n",
    "import matplotlib.pyplot as plt\n",
    "\n",
    "# Specify the path to your PNG image\n",
    "image_path = 'C:/Users/princ/Documents/Python/Big O.png'\n",
    "\n",
    "# Open and display the image\n",
    "with Image.open(image_path) as img:\n",
    "    plt.imshow(img)\n",
    "    plt.axis('off')  # Hide axis\n",
    "    plt.show()\n"
   ]
  },
  {
   "cell_type": "code",
   "execution_count": null,
   "id": "7ea1ef0b-fd5e-4e6c-ab2e-44f6cb65e258",
   "metadata": {},
   "outputs": [],
   "source": []
  }
 ],
 "metadata": {
  "kernelspec": {
   "display_name": "Python 3 (ipykernel)",
   "language": "python",
   "name": "python3"
  },
  "language_info": {
   "codemirror_mode": {
    "name": "ipython",
    "version": 3
   },
   "file_extension": ".py",
   "mimetype": "text/x-python",
   "name": "python",
   "nbconvert_exporter": "python",
   "pygments_lexer": "ipython3",
   "version": "3.12.4"
  }
 },
 "nbformat": 4,
 "nbformat_minor": 5
}
