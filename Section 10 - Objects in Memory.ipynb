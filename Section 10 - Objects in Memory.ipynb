{
 "cells": [
  {
   "cell_type": "code",
   "execution_count": 28,
   "id": "d1dd005b-8d4d-40b0-8d33-ba741470d163",
   "metadata": {},
   "outputs": [],
   "source": [
    "## OBJECTS IN MEMORY"
   ]
  },
  {
   "cell_type": "code",
   "execution_count": 1,
   "id": "77873803-c439-4499-9a63-f8ba055e32cf",
   "metadata": {},
   "outputs": [
    {
     "name": "stdout",
     "output_type": "stream",
     "text": [
      "<class 'object'>\n",
      "True\n",
      "True\n",
      "True\n"
     ]
    }
   ],
   "source": [
    "#In python everything is an object\n",
    "#example\n",
    "print(object)\n",
    "print(isinstance(5, object))\n",
    "print(isinstance((1,5,2,6), object))\n",
    "print(isinstance(False, object))"
   ]
  },
  {
   "cell_type": "code",
   "execution_count": 3,
   "id": "ef6bb7f3-61f0-487f-a7fb-3f2179ba93d4",
   "metadata": {},
   "outputs": [],
   "source": [
    "#What is a Class\n",
    "#A class is essentially a blueprint or template for creating objects. \n",
    "#It defines a set of attributes that the objects created from the class will have\n",
    "\n",
    "#What is an Object\n",
    "#An object is an instance of a class. It is a specific realization of the class blueprint,\n",
    "#with actual values for the attributes defined in the class. It is important to note that there\n",
    "# is a subtle difference betwen an object and an instance. An object is a conceptual \n",
    "#representation of an entity, while an instanc is the actual inplementation of this entity in\n",
    "#the program\n",
    "\n",
    "#What is a Method\n",
    "#A method is a function that is defined within a class and is associated with instances of that\n",
    "#class. Methods define the behaviours or actions that objects of the class can perform.\n",
    "\n",
    "#Every object created is stored in memory\n",
    "#Programs keel track of how many references to the object exist\n",
    "#A reference is a name that refers to the location in memory of an object\n",
    "#Example of references: Variables, Attributes, Items"
   ]
  },
  {
   "cell_type": "code",
   "execution_count": 5,
   "id": "43fd8665-2e45-4ff8-a51e-57a8cd5ae76c",
   "metadata": {},
   "outputs": [
    {
     "name": "stdout",
     "output_type": "stream",
     "text": [
      "140730814249848\n"
     ]
    }
   ],
   "source": [
    "print(id(15))\n",
    "#\"Id\" shows the memory address"
   ]
  },
  {
   "cell_type": "code",
   "execution_count": 22,
   "id": "3ab5eff1-17d0-4dd9-8d9b-0a427c1379a6",
   "metadata": {},
   "outputs": [
    {
     "name": "stdout",
     "output_type": "stream",
     "text": [
      "1946835688464\n",
      "1946835690336\n"
     ]
    }
   ],
   "source": [
    "class Backpack:\n",
    "    def __init__(self):\n",
    "        self._items = []\n",
    "\n",
    "    @property\n",
    "    def items(self):\n",
    "        return self._items\n",
    "\n",
    "my_backpack = Backpack()\n",
    "your_backpack = Backpack()\n",
    "\n",
    "#print memory locations\n",
    "#This confirms that both objects and stored at different locations in memory\n",
    "print(id(my_backpack))\n",
    "print(id(your_backpack))"
   ]
  },
  {
   "cell_type": "code",
   "execution_count": null,
   "id": "a958f0d1-cb16-45be-900d-c3a68d61f18e",
   "metadata": {},
   "outputs": [],
   "source": [
    "#If two variable do not reference the same object, they will have\n",
    "#different ids\n",
    "#Is operator checks the object we are referring\n",
    "#== operator checks the values of the object "
   ]
  },
  {
   "cell_type": "code",
   "execution_count": 30,
   "id": "7f984625-800c-4685-b06b-3e3d13fc56d1",
   "metadata": {},
   "outputs": [
    {
     "name": "stdout",
     "output_type": "stream",
     "text": [
      "False\n",
      "True\n"
     ]
    }
   ],
   "source": [
    "#Example\n",
    "a = [1,2,3,4]\n",
    "b = [1,2,3,4]\n",
    "print(a is b)\n",
    "print(a == b)"
   ]
  },
  {
   "cell_type": "code",
   "execution_count": 32,
   "id": "c98c6274-f956-47e9-a11d-5c7f62a75691",
   "metadata": {},
   "outputs": [
    {
     "name": "stdout",
     "output_type": "stream",
     "text": [
      "True\n"
     ]
    }
   ],
   "source": [
    "a = 5\n",
    "b = 5\n",
    "print(a is b)"
   ]
  },
  {
   "cell_type": "code",
   "execution_count": 34,
   "id": "27ee9d99-30a7-447b-a760-9f33d36c4b6a",
   "metadata": {},
   "outputs": [
    {
     "name": "stdout",
     "output_type": "stream",
     "text": [
      "False\n"
     ]
    }
   ],
   "source": [
    "a = 5000\n",
    "b = 5000\n",
    "print(a is b)\n",
    "#False because python has memory storage for integers between -5 and 256"
   ]
  },
  {
   "cell_type": "code",
   "execution_count": 36,
   "id": "c9099ba6-49e1-4319-9026-2fb57ebec514",
   "metadata": {},
   "outputs": [
    {
     "name": "stdout",
     "output_type": "stream",
     "text": [
      "1946833871872\n",
      "1946833871872\n",
      "1946833871872\n"
     ]
    }
   ],
   "source": [
    "a = \"Hi\"\n",
    "print(id(a))\n",
    "\n",
    "b = \"Hi\"\n",
    "print(id(b))\n",
    "\n",
    "c = \"Hi\"\n",
    "print(id(c))\n",
    "\n",
    "#Same id means that they are all represented by the same object/position in memory"
   ]
  },
  {
   "cell_type": "code",
   "execution_count": 44,
   "id": "ab75c9f1-ece7-4081-8fd6-44278efaac89",
   "metadata": {},
   "outputs": [
    {
     "name": "stdout",
     "output_type": "stream",
     "text": [
      "Outside the function: 1946866578496\n",
      "Inside the function: 1946866578496\n",
      "6\n",
      "2\n",
      "8\n",
      "2\n"
     ]
    }
   ],
   "source": [
    "#Working with objects in Python\n",
    "#Objects can be passed by value or as reference\n",
    "\n",
    "my_list = [6,2,8,2]\n",
    "def print_data(seq):\n",
    "    print(\"Inside the function:\", id(seq))\n",
    "    for elem in seq:\n",
    "        print(elem)\n",
    "\n",
    "print(\"Outside the function:\", id(my_list))\n",
    "print_data(my_list)\n",
    "#The id inside and outside the function are the same"
   ]
  },
  {
   "cell_type": "code",
   "execution_count": 54,
   "id": "744a8433-ca84-4377-9678-0256e36ab8a5",
   "metadata": {},
   "outputs": [
    {
     "name": "stdout",
     "output_type": "stream",
     "text": [
      "Outside the function: 1946866879424\n",
      "Inside the function: 1946866879424\n",
      "[12, 4, 16, 4]\n"
     ]
    }
   ],
   "source": [
    "my_list = [6,2,8,2]\n",
    "\n",
    "def multiply_by_two(seq):\n",
    "    print(\"Inside the function:\", id(my_list))\n",
    "    for i in range(len(seq)):\n",
    "        seq[i] *= 2\n",
    "\n",
    "print(\"Outside the function:\", id(my_list))\n",
    "multiply_by_two(my_list)\n",
    "\n",
    "print(my_list)\n",
    "#New list after mutation/multiplication and id remains the same"
   ]
  },
  {
   "cell_type": "code",
   "execution_count": 58,
   "id": "6c7941ff-0639-48c6-b5f5-5708cfac8567",
   "metadata": {},
   "outputs": [
    {
     "name": "stdout",
     "output_type": "stream",
     "text": [
      "790\n"
     ]
    }
   ],
   "source": [
    "class Sale:\n",
    "\n",
    "    def __init__(self, amount):\n",
    "        self.amount = amount\n",
    "\n",
    "def find_total(sales):\n",
    "    total = 0\n",
    "\n",
    "    for sale in sales:\n",
    "        total += sale.amount\n",
    "\n",
    "    return total\n",
    "\n",
    "january_sales = [Sale(400), Sale(345), Sale(45)]\n",
    "print(find_total(january_sales))"
   ]
  },
  {
   "cell_type": "code",
   "execution_count": null,
   "id": "d7150116-6c39-4b82-a332-251770913c72",
   "metadata": {},
   "outputs": [],
   "source": []
  }
 ],
 "metadata": {
  "kernelspec": {
   "display_name": "Python 3 (ipykernel)",
   "language": "python",
   "name": "python3"
  },
  "language_info": {
   "codemirror_mode": {
    "name": "ipython",
    "version": 3
   },
   "file_extension": ".py",
   "mimetype": "text/x-python",
   "name": "python",
   "nbconvert_exporter": "python",
   "pygments_lexer": "ipython3",
   "version": "3.12.4"
  }
 },
 "nbformat": 4,
 "nbformat_minor": 5
}
