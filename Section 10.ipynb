{
 "cells": [
  {
   "cell_type": "code",
   "execution_count": 10,
   "id": "77873803-c439-4499-9a63-f8ba055e32cf",
   "metadata": {},
   "outputs": [
    {
     "name": "stdout",
     "output_type": "stream",
     "text": [
      "<class 'object'>\n",
      "True\n",
      "True\n",
      "True\n"
     ]
    }
   ],
   "source": [
    "#In python everything is an object\n",
    "#example\n",
    "print(object)\n",
    "print(isinstance(5, object))\n",
    "print(isinstance((1,5,2,6), object))\n",
    "print(isinstance(False, object))"
   ]
  },
  {
   "cell_type": "code",
   "execution_count": null,
   "id": "ef6bb7f3-61f0-487f-a7fb-3f2179ba93d4",
   "metadata": {},
   "outputs": [],
   "source": [
    "#What is a Class\n",
    "#A class is essentially a blueprint or template for creating objects. \n",
    "#It defines a set of attributes that the objects created from the class will have\n",
    "\n",
    "#What is an Object\n",
    "#An object is an instance of a class. It is a specific realization of the class blueprint,\n",
    "#with actual values for the attributes defined in the class"
   ]
  }
 ],
 "metadata": {
  "kernelspec": {
   "display_name": "Python 3 (ipykernel)",
   "language": "python",
   "name": "python3"
  },
  "language_info": {
   "codemirror_mode": {
    "name": "ipython",
    "version": 3
   },
   "file_extension": ".py",
   "mimetype": "text/x-python",
   "name": "python",
   "nbconvert_exporter": "python",
   "pygments_lexer": "ipython3",
   "version": "3.12.4"
  }
 },
 "nbformat": 4,
 "nbformat_minor": 5
}
