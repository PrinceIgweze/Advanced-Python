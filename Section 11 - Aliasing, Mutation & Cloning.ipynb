{
 "cells": [
  {
   "cell_type": "code",
   "execution_count": 1,
   "id": "1b9f1e4d-8934-4aff-b67d-eb0d65bcacd2",
   "metadata": {},
   "outputs": [
    {
     "name": "stdout",
     "output_type": "stream",
     "text": [
      "2815491621568\n",
      "2815491621568\n"
     ]
    }
   ],
   "source": [
    "# Aliasing, Mutation and Cloning\n",
    "#Prince Igweze\n",
    "\n",
    "# An alias is used to indicate and additional name a person sometimes use\n",
    "# Alias in programming is defined as two or more references to the same memory address in the program\n",
    "\n",
    "#Example\n",
    "a = [1,2,3,4]\n",
    "b = a\n",
    "print(id(a))\n",
    "print(id(b))\n",
    "\n",
    "# Same id, meaning they reference the same object in memory"
   ]
  },
  {
   "cell_type": "code",
   "execution_count": 3,
   "id": "d85ac731-ff88-4f17-a9f9-9561b75b137e",
   "metadata": {},
   "outputs": [
    {
     "name": "stdout",
     "output_type": "stream",
     "text": [
      "True\n"
     ]
    }
   ],
   "source": [
    "class Circle:\n",
    "\n",
    "    def __init__(self, radius):\n",
    "        self.radius = radius\n",
    "\n",
    "my_circle = Circle(4)\n",
    "your_circle = my_circle\n",
    "\n",
    "print(my_circle is your_circle)\n",
    "#Risk: Changes to one instance will afftect the other"
   ]
  },
  {
   "cell_type": "code",
   "execution_count": 7,
   "id": "8bb4cd3a-ae0e-4be5-87b8-88ee65b26597",
   "metadata": {},
   "outputs": [
    {
     "name": "stdout",
     "output_type": "stream",
     "text": [
      "['Water Bottle', 'Candy']\n",
      "['Water Bottle', 'Candy']\n",
      "['Water Bottle', 'Candy']\n"
     ]
    }
   ],
   "source": [
    "class Backpack:\n",
    "\n",
    "    def __init__(self):\n",
    "        self._items = []\n",
    "\n",
    "    @property\n",
    "    def items(self):\n",
    "        return self._items\n",
    "\n",
    "    def add_item(self, item):\n",
    "        self._items.append(item)\n",
    "\n",
    "    def remove_item(self, item):\n",
    "        if item in self._items:\n",
    "            self._items.remove(item)\n",
    "        else:\n",
    "            print(\"This is not in the backpack. \")\n",
    "            \n",
    "\n",
    "my_backpack = Backpack()\n",
    "your_backpack = my_backpack\n",
    "her_backpack = your_backpack\n",
    "\n",
    "my_backpack.add_item(\"Water Bottle\")\n",
    "my_backpack.add_item(\"Candy\")\n",
    "\n",
    "print(my_backpack.items)\n",
    "print(your_backpack.items)\n",
    "print(her_backpack.items)\n",
    "# All three instances have the same list of items. Because they are aliases"
   ]
  },
  {
   "cell_type": "code",
   "execution_count": null,
   "id": "c4f04d70-01a0-42ee-b874-7a6b900a62c2",
   "metadata": {},
   "outputs": [],
   "source": [
    "# Mutability and Immutability in Python\n",
    "# Mutable : Lists, Sets, Dictionaries"
   ]
  }
 ],
 "metadata": {
  "kernelspec": {
   "display_name": "Python 3 (ipykernel)",
   "language": "python",
   "name": "python3"
  },
  "language_info": {
   "codemirror_mode": {
    "name": "ipython",
    "version": 3
   },
   "file_extension": ".py",
   "mimetype": "text/x-python",
   "name": "python",
   "nbconvert_exporter": "python",
   "pygments_lexer": "ipython3",
   "version": "3.12.4"
  }
 },
 "nbformat": 4,
 "nbformat_minor": 5
}
