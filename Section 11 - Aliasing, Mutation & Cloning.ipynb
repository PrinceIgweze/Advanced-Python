{
 "cells": [
  {
   "cell_type": "code",
   "execution_count": 1,
   "id": "1b9f1e4d-8934-4aff-b67d-eb0d65bcacd2",
   "metadata": {},
   "outputs": [
    {
     "name": "stdout",
     "output_type": "stream",
     "text": [
      "2815491621568\n",
      "2815491621568\n"
     ]
    }
   ],
   "source": [
    "# Aliasing, Mutation and Cloning\n",
    "#Prince Igweze\n",
    "\n",
    "# An alias is used to indicate and additional name a person sometimes use\n",
    "# Alias in programming is defined as two or more references to the same memory address in the program\n",
    "\n",
    "#Example\n",
    "a = [1,2,3,4]\n",
    "b = a\n",
    "print(id(a))\n",
    "print(id(b))\n",
    "\n",
    "# Same id, meaning they reference the same object in memory"
   ]
  },
  {
   "cell_type": "code",
   "execution_count": 3,
   "id": "d85ac731-ff88-4f17-a9f9-9561b75b137e",
   "metadata": {},
   "outputs": [
    {
     "name": "stdout",
     "output_type": "stream",
     "text": [
      "True\n"
     ]
    }
   ],
   "source": [
    "class Circle:\n",
    "\n",
    "    def __init__(self, radius):\n",
    "        self.radius = radius\n",
    "\n",
    "my_circle = Circle(4)\n",
    "your_circle = my_circle\n",
    "\n",
    "print(my_circle is your_circle)\n",
    "#Risk: Changes to one instance will afftect the other"
   ]
  },
  {
   "cell_type": "code",
   "execution_count": 7,
   "id": "8bb4cd3a-ae0e-4be5-87b8-88ee65b26597",
   "metadata": {},
   "outputs": [
    {
     "name": "stdout",
     "output_type": "stream",
     "text": [
      "['Water Bottle', 'Candy']\n",
      "['Water Bottle', 'Candy']\n",
      "['Water Bottle', 'Candy']\n"
     ]
    }
   ],
   "source": [
    "class Backpack:\n",
    "\n",
    "    def __init__(self):\n",
    "        self._items = []\n",
    "\n",
    "    @property\n",
    "    def items(self):\n",
    "        return self._items\n",
    "\n",
    "    def add_item(self, item):\n",
    "        self._items.append(item)\n",
    "\n",
    "    def remove_item(self, item):\n",
    "        if item in self._items:\n",
    "            self._items.remove(item)\n",
    "        else:\n",
    "            print(\"This is not in the backpack. \")\n",
    "            \n",
    "\n",
    "my_backpack = Backpack()\n",
    "your_backpack = my_backpack\n",
    "her_backpack = your_backpack\n",
    "\n",
    "my_backpack.add_item(\"Water Bottle\")\n",
    "my_backpack.add_item(\"Candy\")\n",
    "\n",
    "print(my_backpack.items)\n",
    "print(your_backpack.items)\n",
    "print(her_backpack.items)\n",
    "# All three instances have the same list of items. Because they are aliases"
   ]
  },
  {
   "cell_type": "code",
   "execution_count": 11,
   "id": "c4f04d70-01a0-42ee-b874-7a6b900a62c2",
   "metadata": {},
   "outputs": [
    {
     "name": "stdout",
     "output_type": "stream",
     "text": [
      "[5, 3, 2, 1]\n"
     ]
    }
   ],
   "source": [
    "# Mutability and Immutability in Python\n",
    "# Mutable : Lists, Sets, Dictionaries\n",
    "a = [7, 3, 2, 1]\n",
    "a[0] = 5\n",
    "#Made a change directly to the object\n",
    "#Tuples are immutable a = (7,3,2,1)\n",
    "print(a)"
   ]
  },
  {
   "cell_type": "code",
   "execution_count": 13,
   "id": "cab25dab-9ba0-41c2-8db3-51ba7703a16a",
   "metadata": {},
   "outputs": [
    {
     "name": "stdout",
     "output_type": "stream",
     "text": [
      "Values Before: [-5, -6, -7, -8]\n",
      "Values After: [5, 6, 7, 8]\n"
     ]
    }
   ],
   "source": [
    "def add_absolute_values(seq):\n",
    "    for i in range(len(seq)):\n",
    "        seq[i] = abs(seq[i])\n",
    "    return sum(seq)\n",
    "\n",
    "values = [-5, -6, -7, -8]\n",
    "\n",
    "print(\"Values Before:\", values)\n",
    "\n",
    "result = add_absolute_values(values)\n",
    "\n",
    "print(\"Values After:\", values)\n",
    "#Disadvantges of mutable objects is that they can be prone to unintended changes"
   ]
  },
  {
   "cell_type": "code",
   "execution_count": 15,
   "id": "9ec99272-c2c6-4386-a5b3-03d27d840d9b",
   "metadata": {},
   "outputs": [
    {
     "name": "stdout",
     "output_type": "stream",
     "text": [
      "(1, 2, 7, 3, 4)\n"
     ]
    }
   ],
   "source": [
    "a = (1,2,3,4)\n",
    "a = a[:2] + (7,) + a[2:] #Using tuple slicing to modify the tuple. This is a new object in memory\n",
    "print(a)"
   ]
  },
  {
   "cell_type": "code",
   "execution_count": null,
   "id": "5932e77b-3fd5-428a-b9e5-7b21ddf22fb2",
   "metadata": {},
   "outputs": [],
   "source": []
  }
 ],
 "metadata": {
  "kernelspec": {
   "display_name": "Python 3 (ipykernel)",
   "language": "python",
   "name": "python3"
  },
  "language_info": {
   "codemirror_mode": {
    "name": "ipython",
    "version": 3
   },
   "file_extension": ".py",
   "mimetype": "text/x-python",
   "name": "python",
   "nbconvert_exporter": "python",
   "pygments_lexer": "ipython3",
   "version": "3.12.4"
  }
 },
 "nbformat": 4,
 "nbformat_minor": 5
}
