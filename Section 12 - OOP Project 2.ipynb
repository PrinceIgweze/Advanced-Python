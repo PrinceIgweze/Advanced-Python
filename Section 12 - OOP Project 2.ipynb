{
 "cells": [
  {
   "cell_type": "code",
   "execution_count": null,
   "id": "76b4a8ec-0d81-4c3f-b5f8-ee6b27547917",
   "metadata": {},
   "outputs": [],
   "source": [
    "#Creating a Tic Tac Toe game\n",
    "class Move:\n",
    "\n",
    "    def __init__(self, value):\n",
    "        self._value = value\n",
    "\n",
    "    @property\n",
    "    def value(self):\n",
    "        return self._value\n",
    "\n",
    "    def is_valid(self):\n",
    "        return 1<= self._value <= 9\n",
    "\n",
    "    def get_row(self):\n",
    "        if self._value in (1,2,3):\n",
    "\n",
    "    def get_columns(self):\n",
    "        pass\n",
    "        \n",
    "        "
   ]
  }
 ],
 "metadata": {
  "kernelspec": {
   "display_name": "Python 3 (ipykernel)",
   "language": "python",
   "name": "python3"
  },
  "language_info": {
   "codemirror_mode": {
    "name": "ipython",
    "version": 3
   },
   "file_extension": ".py",
   "mimetype": "text/x-python",
   "name": "python",
   "nbconvert_exporter": "python",
   "pygments_lexer": "ipython3",
   "version": "3.12.4"
  }
 },
 "nbformat": 4,
 "nbformat_minor": 5
}
