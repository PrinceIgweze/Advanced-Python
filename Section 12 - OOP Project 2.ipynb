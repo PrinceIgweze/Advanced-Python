{
 "cells": [
  {
   "cell_type": "code",
   "execution_count": 35,
   "id": "76b4a8ec-0d81-4c3f-b5f8-ee6b27547917",
   "metadata": {},
   "outputs": [],
   "source": [
    "#Creating a Tic Tac Toe game\n",
    "class Move:\n",
    "\n",
    "    def __init__(self, value):\n",
    "        self._value = value\n",
    "\n",
    "    @property\n",
    "    def value(self):\n",
    "        return self._value\n",
    "\n",
    "    def is_valid(self):\n",
    "        return 1<= self._value <= 9\n",
    "\n",
    "    def get_row(self):\n",
    "        if self._value in (1,2,3):\n",
    "            return 0 # First row\n",
    "        elif self._value in (4,5,6):\n",
    "            return 1 # Second row\n",
    "        else:\n",
    "            return 2 #Third row\n",
    "            \n",
    "\n",
    "    def get_columns(self):\n",
    "        if self._value in (1,4,7):\n",
    "            return 0 #First column\n",
    "        elif self._value in (2,5,8):\n",
    "            return 1 #Second column\n",
    "        else:\n",
    "            return 2 #Third column\n",
    "\n",
    "# | 1 | 2 | 3 |\n",
    "# | 4 | 5 | 6 |\n",
    "# | 7  | 8 | 9 |\n",
    "\n",
    "#move = Move(10)\n",
    "#print(move.is_valid())\n",
    "\n",
    "        \n",
    "        \n",
    "        \n",
    "        "
   ]
  },
  {
   "cell_type": "code",
   "execution_count": 53,
   "id": "e983e39e-e303-4551-94db-911e0aa899bf",
   "metadata": {},
   "outputs": [
    {
     "name": "stdin",
     "output_type": "stream",
     "text": [
      "Please enter your move(1-9): 9\n"
     ]
    },
    {
     "name": "stdout",
     "output_type": "stream",
     "text": [
      "9\n"
     ]
    }
   ],
   "source": [
    "import random\n",
    "\n",
    "\n",
    "\n",
    "class Player:\n",
    "\n",
    "    PLAYER_MARKER = \"X\"\n",
    "    COMPUTER_MARKER = \"O\"\n",
    "    \n",
    "    def __init__(self, is_human=True):\n",
    "        self._is_human = is_human\n",
    "\n",
    "        if is_human: \n",
    "            self._marker = Player.PLAYER_MARKER\n",
    "        else:\n",
    "            self._marker = Player.COMPUTER_MARKER\n",
    "\n",
    "    @property\n",
    "    def is_human(self):\n",
    "        return self._is_human\n",
    "\n",
    "    @property\n",
    "    def marker(self):\n",
    "        return self._marker\n",
    "\n",
    "    def get_move(self):\n",
    "        if self._is_human:\n",
    "            return self.get_human_move()\n",
    "        else:\n",
    "            return self.get_computer_move()\n",
    "\n",
    "    def get_human_move(self):\n",
    "        while True:\n",
    "            user_input = int(input(\"Please enter your move(1-9):\"))\n",
    "            move = Move(user_input)\n",
    "            if move.is_valid():\n",
    "                return move\n",
    "            else:\n",
    "                print(\"Please eneter an integer between 1 and 9.\")\n",
    "\n",
    "    def get_computer_move(self):\n",
    "        random_choice = random.choice(list(range(1,10)))\n",
    "        move = Move(random_choice)\n",
    "        print(\"Computer move (1-9):\", move.value)\n",
    "        return move\n",
    "\n",
    "computer = Player() #Computer player\n",
    "move = computer.get_move()\n",
    "print(move.value)"
   ]
  },
  {
   "cell_type": "code",
   "execution_count": null,
   "id": "9c267f4b-3311-4206-80fa-491fd256d6c1",
   "metadata": {},
   "outputs": [],
   "source": [
    "class Board: \n",
    "\n",
    "    def __init__(self):"
   ]
  }
 ],
 "metadata": {
  "kernelspec": {
   "display_name": "Python 3 (ipykernel)",
   "language": "python",
   "name": "python3"
  },
  "language_info": {
   "codemirror_mode": {
    "name": "ipython",
    "version": 3
   },
   "file_extension": ".py",
   "mimetype": "text/x-python",
   "name": "python",
   "nbconvert_exporter": "python",
   "pygments_lexer": "ipython3",
   "version": "3.12.4"
  }
 },
 "nbformat": 4,
 "nbformat_minor": 5
}
