{
 "cells": [
  {
   "cell_type": "code",
   "execution_count": 7,
   "id": "76b4a8ec-0d81-4c3f-b5f8-ee6b27547917",
   "metadata": {},
   "outputs": [
    {
     "name": "stdout",
     "output_type": "stream",
     "text": [
      "True\n"
     ]
    }
   ],
   "source": [
    "#Creating a Tic Tac Toe game\n",
    "class Move:\n",
    "\n",
    "    def __init__(self, value):\n",
    "        self._value = value\n",
    "\n",
    "    @property\n",
    "    def value(self):\n",
    "        return self._value\n",
    "\n",
    "    def is_valid(self):\n",
    "        return 1<= self._value <= 9\n",
    "\n",
    "    def get_row(self):\n",
    "        if self._value in (1,2,3):\n",
    "            return 0 # First row\n",
    "        elif self._value in (4,5,6):\n",
    "            return 1 # Second row\n",
    "        else:\n",
    "            return 2 #Third row\n",
    "            \n",
    "\n",
    "    def get_columns(self):\n",
    "        if self._value in (1,4,7):\n",
    "            return 0 #First column\n",
    "        elif self._value in (2,5,8):\n",
    "            return 1 #Second column\n",
    "        else:\n",
    "            return 2 #Third column\n",
    "\n",
    "# | 1 | 2 | 3 |\n",
    "# | 4 | 5 | 6 |\n",
    "# | 7  | 8 | 9 |\n",
    "\n",
    "move = Move(2)\n",
    "print(move.is_valid())\n",
    "\n",
    "        \n",
    "        \n",
    "        \n",
    "        "
   ]
  },
  {
   "cell_type": "code",
   "execution_count": null,
   "id": "e983e39e-e303-4551-94db-911e0aa899bf",
   "metadata": {},
   "outputs": [],
   "source": []
  }
 ],
 "metadata": {
  "kernelspec": {
   "display_name": "Python 3 (ipykernel)",
   "language": "python",
   "name": "python3"
  },
  "language_info": {
   "codemirror_mode": {
    "name": "ipython",
    "version": 3
   },
   "file_extension": ".py",
   "mimetype": "text/x-python",
   "name": "python",
   "nbconvert_exporter": "python",
   "pygments_lexer": "ipython3",
   "version": "3.12.4"
  }
 },
 "nbformat": 4,
 "nbformat_minor": 5
}
