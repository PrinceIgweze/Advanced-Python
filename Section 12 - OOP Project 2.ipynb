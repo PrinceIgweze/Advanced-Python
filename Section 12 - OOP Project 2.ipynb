{
 "cells": [
  {
   "cell_type": "code",
   "execution_count": 35,
   "id": "76b4a8ec-0d81-4c3f-b5f8-ee6b27547917",
   "metadata": {},
   "outputs": [],
   "source": [
    "#Creating a Tic Tac Toe game\n",
    "class Move:\n",
    "\n",
    "    def __init__(self, value):\n",
    "        self._value = value\n",
    "\n",
    "    @property\n",
    "    def value(self):\n",
    "        return self._value\n",
    "\n",
    "    def is_valid(self):\n",
    "        return 1<= self._value <= 9\n",
    "\n",
    "    def get_row(self):\n",
    "        if self._value in (1,2,3):\n",
    "            return 0 # First row\n",
    "        elif self._value in (4,5,6):\n",
    "            return 1 # Second row\n",
    "        else:\n",
    "            return 2 #Third row\n",
    "            \n",
    "\n",
    "    def get_columns(self):\n",
    "        if self._value in (1,4,7):\n",
    "            return 0 #First column\n",
    "        elif self._value in (2,5,8):\n",
    "            return 1 #Second column\n",
    "        else:\n",
    "            return 2 #Third column\n",
    "\n",
    "# | 1 | 2 | 3 |\n",
    "# | 4 | 5 | 6 |\n",
    "# | 7  | 8 | 9 |\n",
    "\n",
    "#move = Move(10)\n",
    "#print(move.is_valid())\n",
    "\n",
    "        \n",
    "        \n",
    "        \n",
    "        "
   ]
  },
  {
   "cell_type": "code",
   "execution_count": 82,
   "id": "e983e39e-e303-4551-94db-911e0aa899bf",
   "metadata": {},
   "outputs": [
    {
     "name": "stdin",
     "output_type": "stream",
     "text": [
      "Please enter your move(1-9): 9\n"
     ]
    },
    {
     "name": "stdout",
     "output_type": "stream",
     "text": [
      "9\n"
     ]
    }
   ],
   "source": [
    "import random\n",
    "\n",
    "\n",
    "\n",
    "class Player:\n",
    "\n",
    "    PLAYER_MARKER = \"X\"\n",
    "    COMPUTER_MARKER = \"O\"\n",
    "    \n",
    "    def __init__(self, is_human=True):\n",
    "        self._is_human = is_human\n",
    "\n",
    "        if is_human: \n",
    "            self._marker = Player.PLAYER_MARKER\n",
    "        else:\n",
    "            self._marker = Player.COMPUTER_MARKER\n",
    "\n",
    "    @property\n",
    "    def is_human(self):\n",
    "        return self._is_human\n",
    "\n",
    "    @property\n",
    "    def marker(self):\n",
    "        return self._marker\n",
    "\n",
    "    def get_move(self):\n",
    "        if self._is_human:\n",
    "            return self.get_human_move()\n",
    "        else:\n",
    "            return self.get_computer_move()\n",
    "\n",
    "    def get_human_move(self):\n",
    "        while True:\n",
    "            user_input = int(input(\"Please enter your move(1-9):\"))\n",
    "            move = Move(user_input)\n",
    "            if move.is_valid():\n",
    "                return move\n",
    "            else:\n",
    "                print(\"Please eneter an integer between 1 and 9.\")\n",
    "\n",
    "    def get_computer_move(self):\n",
    "        random_choice = random.choice(list(range(1,10)))\n",
    "        move = Move(random_choice)\n",
    "        print(\"Computer move (1-9):\", move.value)\n",
    "        return move\n",
    "\n",
    "computer = Player() #Computer player\n",
    "move = computer.get_move()\n",
    "print(move.value)"
   ]
  },
  {
   "cell_type": "code",
   "execution_count": 84,
   "id": "9c267f4b-3311-4206-80fa-491fd256d6c1",
   "metadata": {},
   "outputs": [
    {
     "name": "stdout",
     "output_type": "stream",
     "text": [
      "\n",
      "Positions:\n",
      "| 1 | 2 | 3 |\n",
      "| 4 | 5 | 6 |\n",
      "| 7 | 8 | 9 |\n",
      "Board\n",
      "|   |   |   |\n",
      "|   |   |   |\n",
      "|   |   |   |\n",
      "\n"
     ]
    },
    {
     "ename": "AttributeError",
     "evalue": "'Move' object has no attribute 'get_column'",
     "output_type": "error",
     "traceback": [
      "\u001b[1;31m---------------------------------------------------------------------------\u001b[0m",
      "\u001b[1;31mAttributeError\u001b[0m                            Traceback (most recent call last)",
      "Cell \u001b[1;32mIn[84], line 45\u001b[0m\n\u001b[0;32m     42\u001b[0m move \u001b[38;5;241m=\u001b[39m Move(\u001b[38;5;241m5\u001b[39m)\n\u001b[0;32m     44\u001b[0m board\u001b[38;5;241m.\u001b[39mprint_board()\n\u001b[1;32m---> 45\u001b[0m board\u001b[38;5;241m.\u001b[39msubmit_move(player, move)\n\u001b[0;32m     46\u001b[0m board\u001b[38;5;241m.\u001b[39mprint_board()\n",
      "Cell \u001b[1;32mIn[84], line 30\u001b[0m, in \u001b[0;36mBoard.submit_move\u001b[1;34m(self, player, move)\u001b[0m\n\u001b[0;32m     28\u001b[0m \u001b[38;5;28;01mdef\u001b[39;00m \u001b[38;5;21msubmit_move\u001b[39m(\u001b[38;5;28mself\u001b[39m, player, move):\n\u001b[0;32m     29\u001b[0m     row \u001b[38;5;241m=\u001b[39m move\u001b[38;5;241m.\u001b[39mget_row()\n\u001b[1;32m---> 30\u001b[0m     col \u001b[38;5;241m=\u001b[39m move\u001b[38;5;241m.\u001b[39mget_column()\n\u001b[0;32m     31\u001b[0m     value \u001b[38;5;241m=\u001b[39m \u001b[38;5;28mself\u001b[39m\u001b[38;5;241m.\u001b[39mgame_board[row][col]\n\u001b[0;32m     35\u001b[0m     \u001b[38;5;28;01mif\u001b[39;00m value \u001b[38;5;241m==\u001b[39m Board\u001b[38;5;241m.\u001b[39mEMPTY_CELL:\n",
      "\u001b[1;31mAttributeError\u001b[0m: 'Move' object has no attribute 'get_column'"
     ]
    }
   ],
   "source": [
    "class Board: \n",
    "\n",
    "    EMPTY_CELL = 0\n",
    "    \n",
    "    def __init__(self):\n",
    "        self.game_board = [ [0, 0, 0], \n",
    "                            [0, 0, 0], \n",
    "                            [0, 0, 0] ]\n",
    "\n",
    "    def print_board(self):\n",
    "        print(\"\\nPositions:\")\n",
    "        self.print_board_with_positions()\n",
    "\n",
    "        print(\"Board\")\n",
    "        for row in self.game_board:\n",
    "            print(\"|\", end=\"\")\n",
    "            for column in row:\n",
    "                if column == Board.EMPTY_CELL:\n",
    "                    print(\"   |\", end=\"\")\n",
    "                else:\n",
    "                    print(f\" {column} |\", end=\"\")\n",
    "            print()\n",
    "        print()\n",
    "\n",
    "    def print_board_with_positions(self):\n",
    "        print(\"| 1 | 2 | 3 |\\n| 4 | 5 | 6 |\\n| 7 | 8 | 9 |\")\n",
    "\n",
    "    def submit_move(self, player, move):\n",
    "        row = move.get_row()\n",
    "        col = move.get_column()\n",
    "        value = self.game_board[row][col]\n",
    "\n",
    "        \n",
    "\n",
    "        if value == Board.EMPTY_CELL:\n",
    "            self.game_board[row][col] = player.marker\n",
    "        else:\n",
    "            print(\"This position is alredy taken. Please enter another one.\")\n",
    "\n",
    "board = Board()\n",
    "player = Player()\n",
    "move = Move(5)\n",
    "\n",
    "board.print_board()\n",
    "board.submit_move(player, move)\n",
    "board.print_board()"
   ]
  },
  {
   "cell_type": "code",
   "execution_count": null,
   "id": "34935754-6472-45d5-9ab2-50479b17d5ae",
   "metadata": {},
   "outputs": [],
   "source": []
  },
  {
   "cell_type": "code",
   "execution_count": null,
   "id": "17a764fb-ace1-4d91-879b-b38e9016c09b",
   "metadata": {},
   "outputs": [],
   "source": []
  }
 ],
 "metadata": {
  "kernelspec": {
   "display_name": "Python 3 (ipykernel)",
   "language": "python",
   "name": "python3"
  },
  "language_info": {
   "codemirror_mode": {
    "name": "ipython",
    "version": 3
   },
   "file_extension": ".py",
   "mimetype": "text/x-python",
   "name": "python",
   "nbconvert_exporter": "python",
   "pygments_lexer": "ipython3",
   "version": "3.12.4"
  }
 },
 "nbformat": 4,
 "nbformat_minor": 5
}
