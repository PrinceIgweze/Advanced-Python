{
 "cells": [
  {
   "cell_type": "code",
   "execution_count": null,
   "id": "7ea88f32-d823-4bf7-9049-87d469f0778c",
   "metadata": {},
   "outputs": [],
   "source": [
    "# Topics\n",
    "#Introduction to inheritance in OOP\n",
    "#Advantages of creating hierarchies\n",
    "#Inheritance in Python (syntax)\n",
    "#Attribute inheritance\n",
    "#Multilevel inheritance\n",
    "#Multiple inheritance"
   ]
  },
  {
   "cell_type": "code",
   "execution_count": null,
   "id": "e292cc3d-44d1-420b-885f-93a9f1a35c39",
   "metadata": {},
   "outputs": [],
   "source": [
    "#INHERITANCE\n",
    "#Defining classes that inherit attributes and methods from other classes\n",
    "\n",
    "#Advantages\n",
    "#Reduce code repitition\n",
    "#Reuse code\n",
    "#Improve readability"
   ]
  },
  {
   "cell_type": "code",
   "execution_count": null,
   "id": "50cd783b-363d-42f0-b6b4-82b2c37c68d2",
   "metadata": {},
   "outputs": [],
   "source": [
    "#Defining Parent and Child Class\n",
    "\n",
    "\n",
    "#class Superclass:\n",
    "#    pass\n",
    "\n",
    "#class Subclass(Superclass):\n",
    "#    pass"
   ]
  },
  {
   "cell_type": "code",
   "execution_count": 7,
   "id": "e7dc2794-e961-4859-a3bb-1d69fa508bac",
   "metadata": {},
   "outputs": [],
   "source": [
    "#Example\n",
    "\n",
    "class Polygon:\n",
    "    pass\n",
    "\n",
    "class Tirangle(Polygon):\n",
    "    pass\n",
    "\n",
    "class Square(Polygon):\n",
    "    pass"
   ]
  },
  {
   "cell_type": "code",
   "execution_count": 17,
   "id": "8e156516-a84e-49b1-83ed-71fd8a06d47c",
   "metadata": {},
   "outputs": [
    {
     "name": "stdout",
     "output_type": "stream",
     "text": [
      "3\n",
      "Blue\n"
     ]
    }
   ],
   "source": [
    "#Inheriting the attributes of the super class\n",
    "#Inherit Attributes with __init__()\n",
    "#<Superclass>.__init_(self, <arguments>)\n",
    "class Polygon:\n",
    "\n",
    "    def __init__(self, num_sides, color):\n",
    "        self.num_sides = num_sides\n",
    "        self.color = color\n",
    "\n",
    "class Triangle(Polygon):\n",
    "\n",
    "    NUM_SIDES = 3\n",
    "\n",
    "    def __init__(self, base, height, color):\n",
    "        Polygon.__init__(self, Triangle.NUM_SIDES, color)\n",
    "        self.base = base\n",
    "        self.height = height\n",
    "\n",
    "my_triangle = Triangle(5, 4, \"Blue\")\n",
    "print(my_triangle.num_sides)\n",
    "print(my_triangle.color)\n"
   ]
  },
  {
   "cell_type": "code",
   "execution_count": 6,
   "id": "9a1038d7-4bdf-46b6-90b8-3958c04ec366",
   "metadata": {},
   "outputs": [
    {
     "name": "stdout",
     "output_type": "stream",
     "text": [
      "Nora Nav\n",
      "60000\n",
      "Python\n"
     ]
    }
   ],
   "source": [
    "class Employee:\n",
    "\n",
    "    def __init__(self, full_name, salary):\n",
    "        self.full_name = full_name\n",
    "        self.salary = salary\n",
    "\n",
    "class Programmer(Employee): #Superclass\n",
    "\n",
    "    def __init__(self, full_name, salary, programming_language):\n",
    "        Employee.__init__(self, full_name, salary)\n",
    "        self.programming_language = programming_language\n",
    "\n",
    "nora = Programmer(\"Nora Nav\", 60000, \"Python\")\n",
    "\n",
    "print(nora.full_name)\n",
    "print(nora.salary)\n",
    "print(nora.programming_language)"
   ]
  },
  {
   "cell_type": "code",
   "execution_count": 12,
   "id": "3d8bb237-e95f-44aa-bb41-1fc49b0f16b2",
   "metadata": {},
   "outputs": [
    {
     "name": "stdout",
     "output_type": "stream",
     "text": [
      "0\n",
      "0\n",
      "0\n",
      "10\n",
      "False\n",
      "15\n",
      "15\n",
      "1\n"
     ]
    }
   ],
   "source": [
    "class Character:\n",
    "\n",
    "    def __init__(self, x, y, num_lives):\n",
    "        self.x = x\n",
    "        self.y = y\n",
    "        self.num_lives = num_lives\n",
    "\n",
    "class Player(Character): #Inherits the Character class\n",
    "\n",
    "    INITIAL_X = 0\n",
    "    INITIAL_Y = 0\n",
    "    INITIAL_NUM_LIVES = 10\n",
    "\n",
    "    def __init__(self, score=0):\n",
    "        Character.__init__(self, Player.INITIAL_X, Player.INITIAL_Y, Player.INITIAL_NUM_LIVES)\n",
    "        self.score = score\n",
    "\n",
    "class Enemy(Character):\n",
    "\n",
    "    def __init__(self, x = 15, y = 15, num_lives = 8, is_poisonous = False):\n",
    "        Character.__init__(self, x, y, num_lives)\n",
    "        self.is_poisonous = is_poisonous\n",
    "\n",
    "my_player = Player()\n",
    "\n",
    "print(my_player.score)\n",
    "print(my_player.x)\n",
    "print(my_player.y)\n",
    "print(my_player.num_lives)\n",
    "\n",
    "\n",
    "easy_enemy = Enemy(num_lives = 1)\n",
    "hard_enemy = Enemy(num_lives = 56, is_poisonous = True)\n",
    "\n",
    "print(easy_enemy.is_poisonous)\n",
    "print(easy_enemy.x)\n",
    "print(easy_enemy.y)\n",
    "print(easy_enemy.num_lives)"
   ]
  },
  {
   "cell_type": "code",
   "execution_count": null,
   "id": "99ae8928-5996-4984-b962-7a6c1b869598",
   "metadata": {},
   "outputs": [],
   "source": [
    "class ElectronicDevice:\n",
    "    def __init__(self, active):\n",
    "        self.active = active\n",
    "\n",
    "class Computer(ElectronicDevice):\n",
    "    def __init__(self, active, is_computer = True):\n",
    "        ElectronicDevice.__init(self, active)\n",
    "        self.is_computer = is_computer\n",
    "\n",
    "class Desktop(Computer):\n",
    "    def__init__(self, number_of_desktop)\n",
    "        Computer.__init(self\n"
   ]
  },
  {
   "cell_type": "markdown",
   "id": "868a5745-b6a7-47ef-8876-63dc33ca5e76",
   "metadata": {},
   "source": [
    "Section 2\n",
    "- Method inehertitance in OOP\n",
    "- Advantages of inheriting methods from another class\n",
    "- Method inheritance in Python (syntax)\n",
    "- Method overriding\n",
    "- Method overloading\n",
    "- Polymophism"
   ]
  },
  {
   "cell_type": "code",
   "execution_count": 6,
   "id": "7ffd9691-a685-4368-ac62-97a3f265badd",
   "metadata": {},
   "outputs": [
    {
     "name": "stdout",
     "output_type": "stream",
     "text": [
      "This polygon has 3 sides and it's Blue\n",
      "10.0\n",
      "This polygon has 4 sides and it's Green\n",
      "16\n"
     ]
    }
   ],
   "source": [
    "class Polygon:\n",
    "    def __init__(self, num_sides, color):\n",
    "        self.num_sides = num_sides\n",
    "        self.color = color\n",
    "\n",
    "    def describe_polygon(self):\n",
    "        print(f\"This polygon has {self.num_sides} sides and it's {self.color}\")\n",
    "        \n",
    "class Triangle(Polygon): \n",
    "\n",
    "    NUM_SIDES = 3\n",
    "    def __init__(self, base, height, color):\n",
    "        Polygon.__init__(self, Triangle.NUM_SIDES, color)\n",
    "        self.base = base\n",
    "        self.height = height\n",
    "\n",
    "    def find_area(self):\n",
    "        return (self.base * self.height) / 2\n",
    "        \n",
    "\n",
    "class Square(Polygon):\n",
    "\n",
    "    NUM_SIDES = 4\n",
    "\n",
    "    def __init__(self, side_length, color):\n",
    "        Polygon.__init__(self, Square.NUM_SIDES, color)\n",
    "        self.side_length = side_length\n",
    "\n",
    "    def find_area(self):\n",
    "        return self.side_length ** 2\n",
    "\n",
    "\n",
    "my_triangle = Triangle(5, 4, \"Blue\")\n",
    "my_triangle.describe_polygon() #This method was inherited from the polygon class\n",
    "print(my_triangle.find_area())\n",
    "\n",
    "my_square = Square(4, \"Green\") \n",
    "my_square.describe_polygon()\n",
    "print(my_square.find_area())\n",
    "k\n"
   ]
  },
  {
   "cell_type": "code",
   "execution_count": null,
   "id": "8be7bc49-ab39-4811-8558-2863a9bce2e3",
   "metadata": {},
   "outputs": [],
   "source": []
  }
 ],
 "metadata": {
  "kernelspec": {
   "display_name": "Python 3 (ipykernel)",
   "language": "python",
   "name": "python3"
  },
  "language_info": {
   "codemirror_mode": {
    "name": "ipython",
    "version": 3
   },
   "file_extension": ".py",
   "mimetype": "text/x-python",
   "name": "python",
   "nbconvert_exporter": "python",
   "pygments_lexer": "ipython3",
   "version": "3.12.4"
  }
 },
 "nbformat": 4,
 "nbformat_minor": 5
}
