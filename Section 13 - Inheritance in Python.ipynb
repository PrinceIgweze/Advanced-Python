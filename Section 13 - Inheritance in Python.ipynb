{
 "cells": [
  {
   "cell_type": "code",
   "execution_count": null,
   "id": "7ea88f32-d823-4bf7-9049-87d469f0778c",
   "metadata": {},
   "outputs": [],
   "source": [
    "# Topics\n",
    "#Introduction to inheritance in OOP\n",
    "#Advantages of creating hierarchies\n",
    "#Inheritance in Python (syntax)\n",
    "#Attribute inheritance\n",
    "#Multilevel inheritance\n",
    "#Multiple inheritance"
   ]
  },
  {
   "cell_type": "code",
   "execution_count": null,
   "id": "e292cc3d-44d1-420b-885f-93a9f1a35c39",
   "metadata": {},
   "outputs": [],
   "source": [
    "#INHERITANCE\n",
    "#Defining classes that inherit attributes and methods from other classes\n",
    "\n",
    "#Advantages\n",
    "#Reduce code repitition\n",
    "#Reuse code\n",
    "#Improve readability"
   ]
  },
  {
   "cell_type": "code",
   "execution_count": null,
   "id": "50cd783b-363d-42f0-b6b4-82b2c37c68d2",
   "metadata": {},
   "outputs": [],
   "source": [
    "#Defining Parent and Child Class\n",
    "\n",
    "\n",
    "#class Superclass:\n",
    "#    pass\n",
    "\n",
    "#class Subclass(Superclass):\n",
    "#    pass"
   ]
  },
  {
   "cell_type": "code",
   "execution_count": 7,
   "id": "e7dc2794-e961-4859-a3bb-1d69fa508bac",
   "metadata": {},
   "outputs": [],
   "source": [
    "#Example\n",
    "\n",
    "class Polygon:\n",
    "    pass\n",
    "\n",
    "class Tirangle(Polygon):\n",
    "    pass\n",
    "\n",
    "class Square(Polygon):\n",
    "    pass"
   ]
  },
  {
   "cell_type": "code",
   "execution_count": 17,
   "id": "8e156516-a84e-49b1-83ed-71fd8a06d47c",
   "metadata": {},
   "outputs": [
    {
     "name": "stdout",
     "output_type": "stream",
     "text": [
      "3\n",
      "Blue\n"
     ]
    }
   ],
   "source": [
    "#Inheriting the attributes of the super class\n",
    "#Inherit Attributes with __init__()\n",
    "#<Superclass>.__init_(self, <arguments>)\n",
    "class Polygon:\n",
    "\n",
    "    def __init__(self, num_sides, color):\n",
    "        self.num_sides = num_sides\n",
    "        self.color = color\n",
    "\n",
    "class Triangle(Polygon):\n",
    "\n",
    "    NUM_SIDES = 3\n",
    "\n",
    "    def __init__(self, base, height, color):\n",
    "        Polygon.__init__(self, Triangle.NUM_SIDES, color)\n",
    "        self.base = base\n",
    "        self.height = height\n",
    "\n",
    "my_triangle = Triangle(5, 4, \"Blue\")\n",
    "print(my_triangle.num_sides)\n",
    "print(my_triangle.color)\n"
   ]
  },
  {
   "cell_type": "code",
   "execution_count": null,
   "id": "9a1038d7-4bdf-46b6-90b8-3958c04ec366",
   "metadata": {},
   "outputs": [],
   "source": []
  }
 ],
 "metadata": {
  "kernelspec": {
   "display_name": "Python 3 (ipykernel)",
   "language": "python",
   "name": "python3"
  },
  "language_info": {
   "codemirror_mode": {
    "name": "ipython",
    "version": 3
   },
   "file_extension": ".py",
   "mimetype": "text/x-python",
   "name": "python",
   "nbconvert_exporter": "python",
   "pygments_lexer": "ipython3",
   "version": "3.12.4"
  }
 },
 "nbformat": 4,
 "nbformat_minor": 5
}
