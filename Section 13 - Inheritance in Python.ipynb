{
 "cells": [
  {
   "cell_type": "code",
   "execution_count": null,
   "id": "7ea88f32-d823-4bf7-9049-87d469f0778c",
   "metadata": {},
   "outputs": [],
   "source": [
    "# Topics\n",
    "#Introduction to inheritance in OOP\n",
    "#Advantages of creating hierarchies\n",
    "#Inheritance in Python (syntax)\n",
    "#Attribute inheritance\n",
    "#Multilevel inheritance\n",
    "#Multiple inheritance"
   ]
  },
  {
   "cell_type": "code",
   "execution_count": null,
   "id": "e292cc3d-44d1-420b-885f-93a9f1a35c39",
   "metadata": {},
   "outputs": [],
   "source": [
    "#INHERITANCE\n",
    "#Defining classes that inherit attributes and methods from other classes\n",
    "\n",
    "#Advantages\n",
    "#Reduce code repitition\n",
    "#Reuse code\n",
    "#Improve readability"
   ]
  },
  {
   "cell_type": "code",
   "execution_count": null,
   "id": "50cd783b-363d-42f0-b6b4-82b2c37c68d2",
   "metadata": {},
   "outputs": [],
   "source": [
    "#Defining Parent and Child Class\n",
    "\n",
    "\n",
    "#class Superclass:\n",
    "#    pass\n",
    "\n",
    "#class Subclass(Superclass):\n",
    "#    pass"
   ]
  },
  {
   "cell_type": "code",
   "execution_count": null,
   "id": "e7dc2794-e961-4859-a3bb-1d69fa508bac",
   "metadata": {},
   "outputs": [],
   "source": [
    "#Example\n",
    "\n",
    "class Polygon:\n",
    "    pass\n",
    "\n",
    "class Tirangle(Polygon):\n",
    "    pass"
   ]
  }
 ],
 "metadata": {
  "kernelspec": {
   "display_name": "Python 3 (ipykernel)",
   "language": "python",
   "name": "python3"
  },
  "language_info": {
   "codemirror_mode": {
    "name": "ipython",
    "version": 3
   },
   "file_extension": ".py",
   "mimetype": "text/x-python",
   "name": "python",
   "nbconvert_exporter": "python",
   "pygments_lexer": "ipython3",
   "version": "3.12.4"
  }
 },
 "nbformat": 4,
 "nbformat_minor": 5
}
