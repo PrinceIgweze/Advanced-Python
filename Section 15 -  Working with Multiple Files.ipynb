{
 "cells": [
  {
   "cell_type": "markdown",
   "id": "d79cb20e-d9de-4c0a-9c0c-1b10bc2c6680",
   "metadata": {},
   "source": [
    "## IMPORT STATEMENT\n",
    "\n",
    "Statement used to get access to the code in another module"
   ]
  },
  {
   "cell_type": "code",
   "execution_count": 2,
   "id": "208528a4-f867-453b-be52-c19f10848b06",
   "metadata": {},
   "outputs": [],
   "source": [
    "import math\n",
    "\n",
    "class Circle:\n",
    "\n",
    "    def __init__(self, radius):\n",
    "        self.radius = radius\n",
    "\n",
    "    def find_area(self):\n",
    "        return math.pi * (self.radius**2)"
   ]
  },
  {
   "cell_type": "code",
   "execution_count": 13,
   "id": "bdc05b33-0c2c-4296-b73d-b6e70cdafd6f",
   "metadata": {},
   "outputs": [
    {
     "name": "stdout",
     "output_type": "stream",
     "text": [
      "4\n",
      "3\n"
     ]
    }
   ],
   "source": [
    "import random\n",
    "\n",
    "class Die:\n",
    "\n",
    "    def __init__(self, value):\n",
    "        self.value = value\n",
    "\n",
    "    def roll_die(self):\n",
    "        random_value = random.randint(1,6)\n",
    "        self.value = random_value\n",
    "\n",
    "#Die instance\n",
    "my_die = Die(4)\n",
    "print(my_die.value)\n",
    "my_die.roll_die()\n",
    "print(my_die.value)\n"
   ]
  },
  {
   "cell_type": "code",
   "execution_count": null,
   "id": "908df848-6604-4cee-8cac-66b26c79bcb4",
   "metadata": {},
   "outputs": [],
   "source": []
  }
 ],
 "metadata": {
  "kernelspec": {
   "display_name": "Python 3 (ipykernel)",
   "language": "python",
   "name": "python3"
  },
  "language_info": {
   "codemirror_mode": {
    "name": "ipython",
    "version": 3
   },
   "file_extension": ".py",
   "mimetype": "text/x-python",
   "name": "python",
   "nbconvert_exporter": "python",
   "pygments_lexer": "ipython3",
   "version": "3.12.4"
  }
 },
 "nbformat": 4,
 "nbformat_minor": 5
}
