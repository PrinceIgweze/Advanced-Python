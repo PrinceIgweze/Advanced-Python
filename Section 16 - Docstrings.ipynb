{
 "cells": [
  {
   "cell_type": "markdown",
   "id": "92f7ff75-a6d7-43e4-b7e9-690be172b87c",
   "metadata": {},
   "source": [
    "## Detailed Documentation"
   ]
  },
  {
   "cell_type": "markdown",
   "id": "915afb46-eb37-4725-9cef-fca31cfd274f",
   "metadata": {},
   "source": [
    "Docstrings are string literals that we can use to document our code"
   ]
  },
  {
   "cell_type": "markdown",
   "id": "fa01a47e-e907-4bd4-96d8-58224c350206",
   "metadata": {},
   "source": [
    "Difference between docstrings & comments\n",
    "- Docstrings: They are \"linked\" to the element they describe\n",
    "- Comments: They are not \"linked\" toany part of the code"
   ]
  },
  {
   "cell_type": "code",
   "execution_count": null,
   "id": "9a81d552-6672-4c83-98f9-a59a06a07ce0",
   "metadata": {},
   "outputs": [],
   "source": [
    "def add(a, b):\n",
    "    \"\"\" Return the sum of a and b.\"\"\"\n",
    "    return a + b"
   ]
  },
  {
   "cell_type": "code",
   "execution_count": 5,
   "id": "02126c0c-a593-4d38-8738-eafc6d8a7b71",
   "metadata": {},
   "outputs": [],
   "source": [
    "def print_floyds_triangle(n):\n",
    "    \"\"\" Print Floyd's Triangle with n rows.\"\"\"\n",
    "    count = 1\n",
    "\n",
    "    for i in range(1, n+1):\n",
    "        for j in range(i):\n",
    "            print(count, end=\" \")\n",
    "            count += 1\n",
    "        print()"
   ]
  },
  {
   "cell_type": "markdown",
   "id": "c0bbd847-4298-43fd-88b4-0f347a91d488",
   "metadata": {},
   "source": [
    "# Multi-line Docstring\n",
    "\n",
    "Methods and Functions\n",
    "- Arguments\n",
    "- Optional Arguments\n",
    "- Return Value\n",
    "- Side effects (e.g Mutation)\n",
    "- Exceptions that might be raised\n"
   ]
  },
  {
   "cell_type": "code",
   "execution_count": null,
   "id": "820aa6df-7d35-4b95-9217-6fc34f31ae88",
   "metadata": {},
   "outputs": [],
   "source": [
    "def make_frequency_dict(sequence):\n",
    "    \n",
    "    \"\"\"Return a dictionary that maps each element in sequence to its frequency.\n",
    "\n",
    "    Create a dictionary that maps each element in a sequence \n",
    "    to the number of times the element occurs in the list. The element will be the key \n",
    "    of the key-value pair in the dictionary and its frequency will be the value of the key-value pair.\n",
    "\n",
    "    Argument:\n",
    "        sequence: A list of values. These values have to be an immutable data type because they will be \n",
    "        assignmed as the keys of the dictionary. For example, they can be integers, booleans, tuples, or strings\n",
    "\n",
    "    Return:\n",
    "        A dictionary that maps each element in the list to its frequency.\n",
    "        For example, this function call:\n",
    "\n",
    "        make_frequency_dict([1, 6, 2, 6, 2])\n",
    "\n",
    "        return this dictionary:\n",
    "\n",
    "        {1: 1, 6: 2, 2: 2}\n",
    "\n",
    "    Raise:\n",
    "        ValueError: If the list is empty\n",
    "        \n",
    "    \"\"\"\n",
    "    \n",
    "    if not sequence:\n",
    "        raise ValueError(\"The list cannot be empty\")\n",
    "\n",
    "    freq = {}\n",
    "\n",
    "    for elem in sequence:\n",
    "        if elem not in freq:\n",
    "            freq[elem] = 1\n",
    "        else:\n",
    "            freq[elem] += 1\n",
    "            "
   ]
  },
  {
   "cell_type": "markdown",
   "id": "397d3598-2629-43ff-80d9-8ae1c2a84255",
   "metadata": {},
   "source": [
    "# Classes\n",
    "- What the class represents\n",
    "- Public methods\n",
    "- Class and instance variables\n",
    "- Effects of inheritance "
   ]
  },
  {
   "cell_type": "code",
   "execution_count": 16,
   "id": "ed9dd036-4c4f-4151-aa96-9f8c2376f70d",
   "metadata": {},
   "outputs": [],
   "source": [
    "class Backpack: \n",
    "    \"\"\" C class that represents a Backpack.\n",
    "\n",
    "    Attribute:\n",
    "    items (list): the list of items in the backpack (initially empty).\n",
    "\n",
    "    Methods:\n",
    "        add_item(self, item):\n",
    "            Add the item to the backpack\n",
    "        remove_item(self, item):\n",
    "            Remove the item from the backpack\n",
    "        has_item(self, item)\n",
    "            Return True if the item is in the backpack. Else, return False\n",
    "    \"\"\"\n",
    "    \n",
    "    def __init__(self):\n",
    "        self.items = []\n",
    "\n",
    "    def add_item(self, item):\n",
    "        self.items.append(item)\n",
    "\n",
    "    def remove_item(self, item):\n",
    "        if item in self.items:\n",
    "            self.items.remove(item)\n",
    "        else:\n",
    "            print(\"Theis item is not in the backpack\")\n",
    "\n",
    "    def has_item(self, item):\n",
    "         return item in self.items\n",
    "    "
   ]
  },
  {
   "cell_type": "markdown",
   "id": "784fcc65-4783-4732-b8ad-1ce347876416",
   "metadata": {},
   "source": [
    "## For properties\n",
    "- Only document the getters and include only relevant information form the setters"
   ]
  },
  {
   "cell_type": "code",
   "execution_count": null,
   "id": "2acca0c8-939c-4cac-ad09-3942ef6b1ded",
   "metadata": {},
   "outputs": [],
   "source": [
    "import math\n",
    "\n",
    "class Circle: \n",
    "    \"\"\" A class that represents a circle\n",
    "\n",
    "    Attributes:\n",
    "        radius (float): the distance from the center of the circle to its circumference\n",
    "        color (string): the color of the circle\n",
    "        diameter (float): the distance through the center of the circle from one side to the other\n",
    "\n",
    "    Methods:\n",
    "        find_area (self):\n",
    "            Return the area of the circle\n",
    "        find_perimeter(self):\n",
    "            Return the perimeter of the circle\n",
    "\n",
    "\n",
    "    \"\"\"\n",
    "    def __init__(self, radius, color):\n",
    "        \"\"\" Initialize an instance of Circle\n",
    "\n",
    "        Arguments:\n",
    "            radius (float): the distance from the center of the circle to its circumference.\n",
    "            color (string): the color of the circle.\n",
    "        \"\"\"\n",
    "        self._radius = radius\n",
    "        self._color = color\n",
    "\n",
    "@property\n",
    "def radius(self):\n",
    "    \"\"\" Return the radius of the circle.e\n",
    "\n",
    "    This is a float that represents the distance from the center of the circle to its circumference\"\"\"\n",
    "    return self._radius\n",
    "\n",
    "@property\n",
    "def color(self):\n",
    "    \"\"\"Return the color of the circle represented as a string.\n",
    "\n",
    "    The color is described by a string that must be capitalized.\n",
    "    For example: \"Red\", \"Blue\", \"Green\", \"Yellow\".\n",
    "    \"\"\"\n",
    "    return self._color\n",
    "\n",
    "@color.setter\n",
    "def color(self, new_color):\n",
    "    self._color = new_color\n",
    "\n",
    "@property\n",
    "def diameter(self):\n",
    "    \"\"\" Return the diameter of the circle.\n",
    "\n",
    "    This is a float that represents the distance through the center of the circle from one side to the other\n",
    "    \"\"\"\n",
    "    return 2 * self._radius\n",
    "\n",
    "def find_area(self):\n",
    "    return math.pi * (self._radius ** 2)\n",
    "\n",
    "def find_perimeter"
   ]
  }
 ],
 "metadata": {
  "kernelspec": {
   "display_name": "Python 3 (ipykernel)",
   "language": "python",
   "name": "python3"
  },
  "language_info": {
   "codemirror_mode": {
    "name": "ipython",
    "version": 3
   },
   "file_extension": ".py",
   "mimetype": "text/x-python",
   "name": "python",
   "nbconvert_exporter": "python",
   "pygments_lexer": "ipython3",
   "version": "3.12.4"
  }
 },
 "nbformat": 4,
 "nbformat_minor": 5
}
