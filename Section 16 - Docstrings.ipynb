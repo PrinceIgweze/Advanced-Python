{
 "cells": [
  {
   "cell_type": "markdown",
   "id": "92f7ff75-a6d7-43e4-b7e9-690be172b87c",
   "metadata": {},
   "source": [
    "## Detailed Documentation"
   ]
  },
  {
   "cell_type": "markdown",
   "id": "915afb46-eb37-4725-9cef-fca31cfd274f",
   "metadata": {},
   "source": [
    "Docstrings are string literals that we can use to document our code"
   ]
  },
  {
   "cell_type": "markdown",
   "id": "fa01a47e-e907-4bd4-96d8-58224c350206",
   "metadata": {},
   "source": [
    "Difference between docstrings & comments\n",
    "- Docstrings: They are \"linked\" to the element they describe\n",
    "- Comments: They are not \"linked\" toany part of the code"
   ]
  },
  {
   "cell_type": "code",
   "execution_count": null,
   "id": "9a81d552-6672-4c83-98f9-a59a06a07ce0",
   "metadata": {},
   "outputs": [],
   "source": []
  }
 ],
 "metadata": {
  "kernelspec": {
   "display_name": "Python 3 (ipykernel)",
   "language": "python",
   "name": "python3"
  },
  "language_info": {
   "codemirror_mode": {
    "name": "ipython",
    "version": 3
   },
   "file_extension": ".py",
   "mimetype": "text/x-python",
   "name": "python",
   "nbconvert_exporter": "python",
   "pygments_lexer": "ipython3",
   "version": "3.12.4"
  }
 },
 "nbformat": 4,
 "nbformat_minor": 5
}
