{
 "cells": [
  {
   "cell_type": "code",
   "execution_count": 1,
   "id": "91027a09-1e80-4796-bbd1-399bb3fb7890",
   "metadata": {},
   "outputs": [
    {
     "name": "stdout",
     "output_type": "stream",
     "text": [
      "11\n"
     ]
    }
   ],
   "source": [
    "print( 5 + 6)"
   ]
  },
  {
   "cell_type": "code",
   "execution_count": 3,
   "id": "495dbed5-4796-4acb-9dfa-b29533bc4a68",
   "metadata": {},
   "outputs": [
    {
     "name": "stdout",
     "output_type": "stream",
     "text": [
      "11\n"
     ]
    }
   ],
   "source": [
    "print((5).__add__(6))"
   ]
  },
  {
   "cell_type": "code",
   "execution_count": 5,
   "id": "a3d83a4c-931b-4bf6-ad3d-b6b192fc1e8e",
   "metadata": {},
   "outputs": [
    {
     "name": "stdout",
     "output_type": "stream",
     "text": [
      "11\n"
     ]
    }
   ],
   "source": [
    "result = 5 + 6\n",
    "print(result)"
   ]
  },
  {
   "cell_type": "code",
   "execution_count": null,
   "id": "29296d61-b7d3-4d49-ab9a-3f57e56e5f9f",
   "metadata": {},
   "outputs": [],
   "source": [
    "# __str__\n",
    "#Called when we try to print a list, string or number "
   ]
  },
  {
   "cell_type": "code",
   "execution_count": 7,
   "id": "ffdeb389-16f3-4985-9b44-4a791e765796",
   "metadata": {},
   "outputs": [
    {
     "name": "stdout",
     "output_type": "stream",
     "text": [
      "(56, 60)\n"
     ]
    }
   ],
   "source": [
    "class Point2D:\n",
    "    def __init__(self, x, y):\n",
    "        self.x = x\n",
    "        self.y = y\n",
    "\n",
    "    def __str__(self):\n",
    "        return f\"({self.x}, {self.y})\"\n",
    "\n",
    "my_point = Point2D(56, 60)\n",
    "print(my_point)"
   ]
  },
  {
   "cell_type": "code",
   "execution_count": 11,
   "id": "02864e62-3862-47af-a676-a99d27f9ed92",
   "metadata": {},
   "outputs": [
    {
     "name": "stdout",
     "output_type": "stream",
     "text": [
      "Student: Nora Nav | Student ID: 42AB9 | Age: 34 | GPA: 3.76\n"
     ]
    }
   ],
   "source": [
    "class Student:\n",
    "\n",
    "    def __init__(self, student_id, name, age, gpa):\n",
    "        self.student_id = student_id\n",
    "        self.name = name\n",
    "        self.age = age\n",
    "        self.gpa = gpa\n",
    "\n",
    "    def __str__(self):\n",
    "        return f\"Student: {self.name} | Student ID: {self.student_id} | Age: {self.age} | GPA: {self.gpa}\"\n",
    "\n",
    "student = Student(\"42AB9\", \"Nora Nav\", 34, 3.76)\n",
    "print(student)"
   ]
  },
  {
   "cell_type": "code",
   "execution_count": 13,
   "id": "f45db650-03be-43bc-86c6-1530937f03b0",
   "metadata": {},
   "outputs": [
    {
     "name": "stdout",
     "output_type": "stream",
     "text": [
      "12\n",
      "12\n"
     ]
    }
   ],
   "source": [
    "# __len__(self)\n",
    "\n",
    "my_string = \"Hello, World\"\n",
    "print(len(my_string))\n",
    "print(my_string.__len__())"
   ]
  },
  {
   "cell_type": "code",
   "execution_count": 17,
   "id": "0258b7d7-2000-4a34-bebd-3db5fe14eecb",
   "metadata": {},
   "outputs": [
    {
     "name": "stdout",
     "output_type": "stream",
     "text": [
      "5\n",
      "5\n"
     ]
    }
   ],
   "source": [
    "my_list = [1, 2, 3, 4, 5]\n",
    "print(len(my_list))\n",
    "print(my_list.__len__())"
   ]
  },
  {
   "cell_type": "code",
   "execution_count": 19,
   "id": "0c060f84-4c18-44a8-be71-5f3b86bd674d",
   "metadata": {},
   "outputs": [
    {
     "name": "stdout",
     "output_type": "stream",
     "text": [
      "3\n"
     ]
    }
   ],
   "source": [
    "class Backpack:\n",
    "\n",
    "    def __init__(self):\n",
    "        self.items = []\n",
    "\n",
    "    def add_item(self, item):\n",
    "        self.items.append(item)\n",
    "\n",
    "    def remove_item(self, item):\n",
    "        if item in self.items:\n",
    "            self.items.remove(item)\n",
    "        else:\n",
    "            print(\"This item is not in the backpack.\")\n",
    "\n",
    "    def __len__(self):\n",
    "        return len(self.items)\n",
    "\n",
    "my_backpack = Backpack()\n",
    "my_backpack.add_item(\"Water Bottle\")\n",
    "my_backpack.add_item(\"First Aid Kit\")\n",
    "my_backpack.add_item(\"Sleeping Bag\")\n",
    "\n",
    "print(len(my_backpack))"
   ]
  },
  {
   "cell_type": "code",
   "execution_count": 21,
   "id": "50046c93-5286-4474-a749-376161de9bff",
   "metadata": {},
   "outputs": [
    {
     "name": "stdout",
     "output_type": "stream",
     "text": [
      "7\n",
      "7\n"
     ]
    }
   ],
   "source": [
    "# __add__()\n",
    "\n",
    "# x+ y\n",
    "#Behind the scenes: x.__add_(y)\n",
    "\n",
    "print(3+4)\n",
    "print((3).__add__(4))"
   ]
  },
  {
   "cell_type": "code",
   "execution_count": 27,
   "id": "7f304561-69b9-4dcd-9b94-2e8e72d6e4df",
   "metadata": {},
   "outputs": [
    {
     "name": "stdout",
     "output_type": "stream",
     "text": [
      "<__main__.Point2D object at 0x0000015DFF261A00>\n",
      "<__main__.Point2D object at 0x0000015DFF263EC0>\n",
      "<__main__.Point2D object at 0x0000015DFF262510>\n"
     ]
    }
   ],
   "source": [
    "class Point2D:\n",
    "\n",
    "    def __init__(self, x, y):\n",
    "        self.x = x\n",
    "        self.y = y\n",
    "\n",
    "    def __add__(self, other): # (3).__add__(4)\n",
    "        new_x = self.x + other.x\n",
    "        new_y = self.y + other.y\n",
    "        return Point2D(new_x, new_y) # Returning the new point instance\n",
    "\n",
    "    def __str_(self):\n",
    "        return f\"({self.x}, {self.y})\"\n",
    "\n",
    "pointA = Point2D(5,6)\n",
    "print(pointA)\n",
    "\n",
    "pointB = Point2D(2,3)\n",
    "print(pointB)\n",
    "\n",
    "pointC = pointA + pointB\n",
    "print(pointC)"
   ]
  },
  {
   "cell_type": "code",
   "execution_count": 29,
   "id": "e11d8c8b-795a-40d6-b643-df7c15904aba",
   "metadata": {},
   "outputs": [
    {
     "name": "stdout",
     "output_type": "stream",
     "text": [
      "a\n",
      "b\n",
      "c\n",
      "d\n",
      "--------\n",
      "a\n",
      "b\n",
      "c\n",
      "d\n"
     ]
    }
   ],
   "source": [
    "# __getitem__(self, key)\n",
    "\n",
    "#Clled to implement evaluation of self [key]\n",
    "\n",
    "my_list = [\"a\", \"b\", \"c\", \"d\"]\n",
    "\n",
    "print(my_list[0])\n",
    "print(my_list[1])\n",
    "print(my_list[2])\n",
    "print(my_list[3])\n",
    "\n",
    "print(\"--------\")\n",
    "\n",
    "print(my_list.__getitem__(0))\n",
    "print(my_list.__getitem__(1))\n",
    "print(my_list.__getitem__(2))\n",
    "print(my_list.__getitem__(3))"
   ]
  },
  {
   "cell_type": "code",
   "execution_count": 31,
   "id": "7953c434-db4d-414a-8ef6-78425d3743c5",
   "metadata": {},
   "outputs": [
    {
     "name": "stdout",
     "output_type": "stream",
     "text": [
      "['Les Miserables', 'The Matrix', 'Dune']\n"
     ]
    }
   ],
   "source": [
    "class Bookshelf:\n",
    "\n",
    "    def __init__(self):\n",
    "        self.content = [[],\n",
    "                        [],\n",
    "                        []]\n",
    "    def add_book(self, book, location):\n",
    "        self.content[location].append(book)\n",
    "\n",
    "    def take_book(self, book, location):\n",
    "        self.content[location].remove(book)\n",
    "\n",
    "    def __getitem__(self, location):\n",
    "        return self.content[location]\n",
    "\n",
    "my_bookshelf = Bookshelf()\n",
    "my_bookshelf.add_book(\"Les Miserables\", 0)\n",
    "my_bookshelf.add_book(\"The Matrix\", 0)\n",
    "my_bookshelf.add_book(\"Dune\", 0)\n",
    "\n",
    "my_bookshelf.add_book(\"Dracula\", 1)\n",
    "my_bookshelf.add_book(\"Rings\", 1)\n",
    "my_bookshelf.add_book(\"Myth\", 1)\n",
    "\n",
    "print(my_bookshelf[0])"
   ]
  },
  {
   "cell_type": "code",
   "execution_count": 37,
   "id": "0993e9ad-7d96-4b3b-af98-2b4e92dfeabe",
   "metadata": {},
   "outputs": [
    {
     "ename": "TypeError",
     "evalue": "BankAccount() takes no arguments",
     "output_type": "error",
     "traceback": [
      "\u001b[1;31m---------------------------------------------------------------------------\u001b[0m",
      "\u001b[1;31mTypeError\u001b[0m                                 Traceback (most recent call last)",
      "Cell \u001b[1;32mIn[37], line 21\u001b[0m\n\u001b[0;32m     18\u001b[0m         \u001b[38;5;28;01melse\u001b[39;00m:\n\u001b[0;32m     19\u001b[0m             \u001b[38;5;28mprint\u001b[39m(\u001b[38;5;124m\"\u001b[39m\u001b[38;5;124mInsufficient funds.\u001b[39m\u001b[38;5;124m\"\u001b[39m)\n\u001b[1;32m---> 21\u001b[0m my_account \u001b[38;5;241m=\u001b[39m BankAccount(\u001b[38;5;124m\"\u001b[39m\u001b[38;5;124mNora Nav\u001b[39m\u001b[38;5;124m\"\u001b[39m, \u001b[38;5;124m\"\u001b[39m\u001b[38;5;124m356-2456-2455\u001b[39m\u001b[38;5;124m\"\u001b[39m, \u001b[38;5;241m4045.23\u001b[39m)\n\u001b[0;32m     22\u001b[0m \u001b[38;5;28mprint\u001b[39m(\u001b[38;5;28mbool\u001b[39m(my_account))\n",
      "\u001b[1;31mTypeError\u001b[0m: BankAccount() takes no arguments"
     ]
    }
   ],
   "source": [
    "# __bool__(self)\n",
    "\n",
    "#Called to implement truth value testing \n",
    "\n",
    "class BankAccount:\n",
    "\n",
    "    def _init__(self, account_owner, account_number, initial_balance):\n",
    "        self.account_owner = account_owner\n",
    "        self.account_number = account_number\n",
    "        self.balance = initial_balance\n",
    "\n",
    "    def make_deposit(self, amount):\n",
    "        self.balance += amount\n",
    "\n",
    "    def make_withdrawal(self, amount):\n",
    "        if self.balance - amount >= 0:\n",
    "            self.balance -= amount\n",
    "        else:\n",
    "            print(\"Insufficient funds.\")\n",
    "\n",
    "my_account = BankAccount(\"Nora Nav\", \"356-2456-2455\", 4045.23)\n",
    "print(bool(my_account))"
   ]
  },
  {
   "cell_type": "code",
   "execution_count": null,
   "id": "29e90505-158d-4da9-a531-1ba1eefc4192",
   "metadata": {},
   "outputs": [],
   "source": []
  }
 ],
 "metadata": {
  "kernelspec": {
   "display_name": "Python 3 (ipykernel)",
   "language": "python",
   "name": "python3"
  },
  "language_info": {
   "codemirror_mode": {
    "name": "ipython",
    "version": 3
   },
   "file_extension": ".py",
   "mimetype": "text/x-python",
   "name": "python",
   "nbconvert_exporter": "python",
   "pygments_lexer": "ipython3",
   "version": "3.12.4"
  }
 },
 "nbformat": 4,
 "nbformat_minor": 5
}
