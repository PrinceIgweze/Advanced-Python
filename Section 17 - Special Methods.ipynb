{
 "cells": [
  {
   "cell_type": "code",
   "execution_count": 1,
   "id": "91027a09-1e80-4796-bbd1-399bb3fb7890",
   "metadata": {},
   "outputs": [
    {
     "name": "stdout",
     "output_type": "stream",
     "text": [
      "11\n"
     ]
    }
   ],
   "source": [
    "print( 5 + 6)"
   ]
  },
  {
   "cell_type": "code",
   "execution_count": 3,
   "id": "495dbed5-4796-4acb-9dfa-b29533bc4a68",
   "metadata": {},
   "outputs": [
    {
     "name": "stdout",
     "output_type": "stream",
     "text": [
      "11\n"
     ]
    }
   ],
   "source": [
    "print((5).__add__(6))"
   ]
  },
  {
   "cell_type": "code",
   "execution_count": 5,
   "id": "a3d83a4c-931b-4bf6-ad3d-b6b192fc1e8e",
   "metadata": {},
   "outputs": [
    {
     "name": "stdout",
     "output_type": "stream",
     "text": [
      "11\n"
     ]
    }
   ],
   "source": [
    "result = 5 + 6\n",
    "print(result)"
   ]
  },
  {
   "cell_type": "code",
   "execution_count": null,
   "id": "29296d61-b7d3-4d49-ab9a-3f57e56e5f9f",
   "metadata": {},
   "outputs": [],
   "source": [
    "# __str__\n",
    "#Called when we try to print a list, string or number "
   ]
  },
  {
   "cell_type": "code",
   "execution_count": 7,
   "id": "ffdeb389-16f3-4985-9b44-4a791e765796",
   "metadata": {},
   "outputs": [
    {
     "name": "stdout",
     "output_type": "stream",
     "text": [
      "(56, 60)\n"
     ]
    }
   ],
   "source": [
    "class Point2D:\n",
    "    def __init__(self, x, y):\n",
    "        self.x = x\n",
    "        self.y = y\n",
    "\n",
    "    def __str__(self):\n",
    "        return f\"({self.x}, {self.y})\"\n",
    "\n",
    "my_point = Point2D(56, 60)\n",
    "print(my_point)"
   ]
  },
  {
   "cell_type": "code",
   "execution_count": 11,
   "id": "02864e62-3862-47af-a676-a99d27f9ed92",
   "metadata": {},
   "outputs": [
    {
     "name": "stdout",
     "output_type": "stream",
     "text": [
      "Student: Nora Nav | Student ID: 42AB9 | Age: 34 | GPA: 3.76\n"
     ]
    }
   ],
   "source": [
    "class Student:\n",
    "\n",
    "    def __init__(self, student_id, name, age, gpa):\n",
    "        self.student_id = student_id\n",
    "        self.name = name\n",
    "        self.age = age\n",
    "        self.gpa = gpa\n",
    "\n",
    "    def __str__(self):\n",
    "        return f\"Student: {self.name} | Student ID: {self.student_id} | Age: {self.age} | GPA: {self.gpa}\"\n",
    "\n",
    "student = Student(\"42AB9\", \"Nora Nav\", 34, 3.76)\n",
    "print(student)"
   ]
  },
  {
   "cell_type": "code",
   "execution_count": 13,
   "id": "f45db650-03be-43bc-86c6-1530937f03b0",
   "metadata": {},
   "outputs": [
    {
     "name": "stdout",
     "output_type": "stream",
     "text": [
      "12\n",
      "12\n"
     ]
    }
   ],
   "source": [
    "# __len__(self)\n",
    "\n",
    "my_string = \"Hello, World\"\n",
    "print(len(my_string))\n",
    "print(my_string.__len__())"
   ]
  },
  {
   "cell_type": "code",
   "execution_count": 17,
   "id": "0258b7d7-2000-4a34-bebd-3db5fe14eecb",
   "metadata": {},
   "outputs": [
    {
     "name": "stdout",
     "output_type": "stream",
     "text": [
      "5\n",
      "5\n"
     ]
    }
   ],
   "source": [
    "my_list = [1, 2, 3, 4, 5]\n",
    "print(len(my_list))\n",
    "print(my_list.__len__())"
   ]
  },
  {
   "cell_type": "code",
   "execution_count": 19,
   "id": "0c060f84-4c18-44a8-be71-5f3b86bd674d",
   "metadata": {},
   "outputs": [
    {
     "name": "stdout",
     "output_type": "stream",
     "text": [
      "3\n"
     ]
    }
   ],
   "source": [
    "class Backpack:\n",
    "\n",
    "    def __init__(self):\n",
    "        self.items = []\n",
    "\n",
    "    def add_item(self, item):\n",
    "        self.items.append(item)\n",
    "\n",
    "    def remove_item(self, item):\n",
    "        if item in self.items:\n",
    "            self.items.remove(item)\n",
    "        else:\n",
    "            print(\"This item is not in the backpack.\")\n",
    "\n",
    "    def __len__(self):\n",
    "        return len(self.items)\n",
    "\n",
    "my_backpack = Backpack()\n",
    "my_backpack.add_item(\"Water Bottle\")\n",
    "my_backpack.add_item(\"First Aid Kit\")\n",
    "my_backpack.add_item(\"Sleeping Bag\")\n",
    "\n",
    "print(len(my_backpack))"
   ]
  },
  {
   "cell_type": "code",
   "execution_count": 21,
   "id": "50046c93-5286-4474-a749-376161de9bff",
   "metadata": {},
   "outputs": [
    {
     "name": "stdout",
     "output_type": "stream",
     "text": [
      "7\n",
      "7\n"
     ]
    }
   ],
   "source": [
    "# __add__()\n",
    "\n",
    "# x+ y\n",
    "#Behind the scenes: x.__add_(y)\n",
    "\n",
    "print(3+4)\n",
    "print((3).__add__(4))"
   ]
  },
  {
   "cell_type": "code",
   "execution_count": null,
   "id": "7f304561-69b9-4dcd-9b94-2e8e72d6e4df",
   "metadata": {},
   "outputs": [],
   "source": []
  }
 ],
 "metadata": {
  "kernelspec": {
   "display_name": "Python 3 (ipykernel)",
   "language": "python",
   "name": "python3"
  },
  "language_info": {
   "codemirror_mode": {
    "name": "ipython",
    "version": 3
   },
   "file_extension": ".py",
   "mimetype": "text/x-python",
   "name": "python",
   "nbconvert_exporter": "python",
   "pygments_lexer": "ipython3",
   "version": "3.12.4"
  }
 },
 "nbformat": 4,
 "nbformat_minor": 5
}
