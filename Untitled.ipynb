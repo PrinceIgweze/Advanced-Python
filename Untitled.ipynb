{
 "cells": [
  {
   "cell_type": "code",
   "execution_count": 5,
   "id": "b1d1be53-090b-4fed-8777-f95f83e1758f",
   "metadata": {},
   "outputs": [
    {
     "name": "stdout",
     "output_type": "stream",
     "text": [
      "\n",
      "Error: \n",
      "\n"
     ]
    }
   ],
   "source": [
    "import os\n",
    "import subprocess\n",
    "\n",
    "def run_command(command):\n",
    "    result = subprocess.run(command, shell=True, capture_output=True, text=True)\n",
    "    if result.returncode != 0:\n",
    "        print(f\"Error: {result.stderr}\")\n",
    "    else:\n",
    "        print(result.stdout)\n",
    "\n",
    "def main():\n",
    "    # Change to the directory containing your Git repository\n",
    "    os.chdir('/path/to/your/repository')\n",
    "    \n",
    "    # Define the commands\n",
    "    commands = [\n",
    "        'git add your_notebook.ipynb',\n",
    "        'git commit -m \"Automated commit\"',\n",
    "        'git push origin main'\n",
    "    ]\n",
    "\n",
    "    # Execute each command\n",
    "    for command in commands:\n",
    "        run_command(command)\n",
    "\n",
    "if __name__ == \"__main__\":\n",
    "    main()\n",
    "\n"
   ]
  },
  {
   "cell_type": "code",
   "execution_count": null,
   "id": "20625670-9fbb-4494-a53d-36553cdb9765",
   "metadata": {},
   "outputs": [],
   "source": []
  }
 ],
 "metadata": {
  "kernelspec": {
   "display_name": "Python 3 (ipykernel)",
   "language": "python",
   "name": "python3"
  },
  "language_info": {
   "codemirror_mode": {
    "name": "ipython",
    "version": 3
   },
   "file_extension": ".py",
   "mimetype": "text/x-python",
   "name": "python",
   "nbconvert_exporter": "python",
   "pygments_lexer": "ipython3",
   "version": "3.12.4"
  }
 },
 "nbformat": 4,
 "nbformat_minor": 5
}
